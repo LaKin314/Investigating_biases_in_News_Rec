{
  "cells": [
    {
      "cell_type": "markdown",
      "metadata": {
        "id": "acssCURTl4CJ"
      },
      "source": [
        "# Recommenders"
      ]
    },
    {
      "cell_type": "code",
      "execution_count": 1,
      "metadata": {},
      "outputs": [],
      "source": [
        "import os\n",
        "import sys\n",
        "\n",
        "# ! Before importing tensorflow set devices (-1 for NO GPU Acceleration)\n",
        "os.environ[\"CUDA_VISIBLE_DEVICES\"]=\"-1\"\n",
        "\n",
        "if \"../recommenders\" not in sys.path:\n",
        "    sys.path.insert(0,\"../recommenders\")"
      ]
    },
    {
      "cell_type": "code",
      "execution_count": null,
      "metadata": {},
      "outputs": [],
      "source": [
        "print(sys.path)\n",
        "sys.path"
      ]
    },
    {
      "cell_type": "code",
      "execution_count": null,
      "metadata": {},
      "outputs": [],
      "source": [
        "from tempfile import TemporaryDirectory\n",
        "import scrapbook as sb\n",
        "import tensorflow as tf\n",
        "tf.get_logger().setLevel('ERROR') # only show error messages\n",
        "\n",
        "print(f\"System version: {sys.version}\")\n",
        "print(f\"Tensorflow version: {tf.__version__}\")"
      ]
    },
    {
      "cell_type": "code",
      "execution_count": null,
      "metadata": {},
      "outputs": [],
      "source": [
        "from recommenders_tests import load_small"
      ]
    },
    {
      "cell_type": "markdown",
      "metadata": {
        "id": "C1Txmhjxl4CL"
      },
      "source": [
        "### Load MIND - Dataset (DEMO)"
      ]
    },
    {
      "cell_type": "markdown",
      "metadata": {
        "id": "cdabHhbOl4CL"
      },
      "source": [
        "#### Needed libraries"
      ]
    },
    {
      "cell_type": "code",
      "execution_count": null,
      "metadata": {
        "id": "WE-kagJkl4CM"
      },
      "outputs": [],
      "source": [
        "import sys\n",
        "import os\n",
        "from tempfile import TemporaryDirectory\n",
        "\n",
        "from recommenders.models.newsrec.io.mind_iterator import MINDIterator\n",
        "from recommenders.models.newsrec.newsrec_utils import get_mind_data_set\n",
        "from recommenders.models.deeprec.deeprec_utils import download_deeprec_resources\n",
        "from recommenders.models.newsrec.newsrec_utils import prepare_hparams\n"
      ]
    },
    {
      "cell_type": "markdown",
      "metadata": {
        "id": "VqW4QeBNl4CN"
      },
      "source": [
        "#### Download demo-data for MIND if needed\n",
        "\n",
        "Used code from: https://github.com/microsoft/recommenders/blob/main/examples/00_quick_start/naml_MIND.ipynb"
      ]
    },
    {
      "cell_type": "code",
      "execution_count": 11,
      "metadata": {},
      "outputs": [
        {
          "name": "stdout",
          "output_type": "stream",
          "text": [
            "https://recodatasets.z20.web.core.windows.net/newsrec/\n",
            "MINDdemo_train.zip\n",
            "MINDdemo_utils.zip\n"
          ]
        }
      ],
      "source": [
        "mind_url, mind_train_dataset, mind_dev_dataset, mind_utils = get_mind_data_set(\"demo\")\n",
        "print(mind_url)\n",
        "print(mind_train_dataset)\n",
        "print(mind_utils)"
      ]
    },
    {
      "cell_type": "code",
      "execution_count": null,
      "metadata": {
        "colab": {
          "base_uri": "https://localhost:8080/"
        },
        "id": "pGz13w2Yl4CN",
        "outputId": "f185a90a-2129-4da4-c97e-401a229e0799"
      },
      "outputs": [],
      "source": [
        "tmpdir = TemporaryDirectory()\n",
        "data_path = tmpdir.name\n",
        "\n",
        "train_news_file = os.path.join(data_path, 'train', r'news.tsv')\n",
        "train_behaviors_file = os.path.join(data_path, 'train', r'behaviors.tsv')\n",
        "valid_news_file = os.path.join(data_path, 'valid', r'news.tsv')\n",
        "valid_behaviors_file = os.path.join(data_path, 'valid', r'behaviors.tsv')\n",
        "wordEmb_file = os.path.join(data_path, \"utils\", \"embedding_all.npy\")\n",
        "userDict_file = os.path.join(data_path, \"utils\", \"uid2index.pkl\")\n",
        "wordDict_file = os.path.join(data_path, \"utils\", \"word_dict_all.pkl\")\n",
        "vertDict_file = os.path.join(data_path, \"utils\", \"vert_dict.pkl\")\n",
        "subvertDict_file = os.path.join(data_path, \"utils\", \"subvert_dict.pkl\")\n",
        "yaml_file = os.path.join(data_path, \"utils\", r'naml.yaml')\n",
        "\n",
        "# Use demo code here\n",
        "mind_url, mind_train_dataset, mind_dev_dataset, mind_utils = get_mind_data_set(\"demo\")\n",
        "\n",
        "if not os.path.exists(train_news_file):\n",
        "    download_deeprec_resources(mind_url, os.path.join(data_path, 'train'), mind_train_dataset)\n",
        "    \n",
        "if not os.path.exists(valid_news_file):\n",
        "    download_deeprec_resources(mind_url, \\\n",
        "                               os.path.join(data_path, 'valid'), mind_dev_dataset)\n",
        "if not os.path.exists(yaml_file):\n",
        "    download_deeprec_resources(r'https://recodatasets.z20.web.core.windows.net/newsrec/', \\\n",
        "                               os.path.join(data_path, 'utils'), mind_utils)"
      ]
    },
    {
      "cell_type": "markdown",
      "metadata": {},
      "source": [
        "## Load MIND-Dataset SMALL\n",
        "<a id = \"load_small\"></a>\n"
      ]
    },
    {
      "cell_type": "code",
      "execution_count": 62,
      "metadata": {},
      "outputs": [
        {
          "name": "stderr",
          "output_type": "stream",
          "text": [
            "100%|██████████| 51.7k/51.7k [00:07<00:00, 6.59kKB/s]\n",
            "100%|██████████| 30.2k/30.2k [00:03<00:00, 7.57kKB/s]\n",
            "100%|██████████| 152k/152k [00:06<00:00, 23.8kKB/s] \n"
          ]
        }
      ],
      "source": [
        "\n",
        "data_path = \"Dataset_small\"\n",
        "\n",
        "train_news_file = os.path.join(data_path, 'train', r'news.tsv')\n",
        "train_behaviors_file = os.path.join(data_path, 'train', r'behaviors.tsv')\n",
        "valid_news_file = os.path.join(data_path, 'valid', r'news.tsv')\n",
        "valid_behaviors_file = os.path.join(data_path, 'valid', r'behaviors.tsv')\n",
        "wordEmb_file = os.path.join(data_path, \"utils\", \"embedding_all.npy\")\n",
        "userDict_file = os.path.join(data_path, \"utils\", \"uid2index.pkl\")\n",
        "wordDict_file = os.path.join(data_path, \"utils\", \"word_dict_all.pkl\")\n",
        "vertDict_file = os.path.join(data_path, \"utils\", \"vert_dict.pkl\")\n",
        "subvertDict_file = os.path.join(data_path, \"utils\", \"subvert_dict.pkl\")\n",
        "\n",
        "# Use yaml as needed\n",
        "# yaml_file = os.path.join(data_path, \"utils\", r'naml.yaml')\n",
        "\n",
        "# Use demo code here\n",
        "mind_url, mind_train_dataset, mind_dev_dataset, mind_utils = get_mind_data_set(\"small\")\n",
        "\n",
        "if not os.path.exists(train_news_file):\n",
        "    download_deeprec_resources(mind_url, os.path.join(data_path, 'train'), mind_train_dataset)\n",
        "    \n",
        "if not os.path.exists(valid_news_file):\n",
        "    download_deeprec_resources(mind_url, \\\n",
        "                               os.path.join(data_path, 'valid'), mind_dev_dataset)\n",
        "if not os.path.exists(yaml_file):\n",
        "    download_deeprec_resources(r'https://recodatasets.z20.web.core.windows.net/newsrec/', \\\n",
        "                               os.path.join(data_path, 'utils'), mind_utils)"
      ]
    },
    {
      "cell_type": "code",
      "execution_count": 15,
      "metadata": {
        "id": "-Pqpfa-q0J2b"
      },
      "outputs": [],
      "source": [
        "import pandas as pd\n",
        "import matplotlib.pyplot as plt\n",
        "\n",
        "train_news_file\n",
        "train_behaviors_file\n",
        "\n",
        "data_news = pd.read_csv(train_news_file,delimiter=\"\\t\",)\n",
        "data_behavoirs = pd.read_csv(train_behaviors_file,delimiter=\"\\t\")\n",
        "\n",
        "data_news.columns=['News ID',\n",
        "\"Category\",\n",
        "\"SubCategory\",\n",
        "\"Title\",\n",
        "\"Abstract\",\n",
        "\"URL\",\n",
        "\"Title Entities\",\n",
        "\"Abstract Entities \"]\n",
        "\n",
        "data_behavoirs.columns = ['Impression ID', 'User ID', 'Time', 'History' , 'Impressions']\n",
        "\n"
      ]
    },
    {
      "cell_type": "markdown",
      "metadata": {
        "id": "das-usUHl4CO"
      },
      "source": [
        "### Setup hyperparameters"
      ]
    },
    {
      "cell_type": "code",
      "execution_count": null,
      "metadata": {
        "id": "-w1k8Qbkl4CP"
      },
      "outputs": [],
      "source": [
        "batch_size = 32\n",
        "epochs = 5\n",
        "\n",
        "seed = 42\n",
        "\n",
        "hparams = prepare_hparams(yaml_file, \n",
        "                          wordEmb_file=wordEmb_file,\n",
        "                          wordDict_file=wordDict_file, \n",
        "                          userDict_file=userDict_file,\n",
        "                          vertDict_file=vertDict_file, \n",
        "                          subvertDict_file=subvertDict_file,\n",
        "                          batch_size=batch_size,\n",
        "                          epochs=epochs)"
      ]
    },
    {
      "cell_type": "markdown",
      "metadata": {
        "id": "pu1vPk3bl4CQ"
      },
      "source": [
        "### Setup for WandB-Visualization"
      ]
    },
    {
      "cell_type": "code",
      "execution_count": null,
      "metadata": {
        "colab": {
          "base_uri": "https://localhost:8080/"
        },
        "id": "AUhsnYEJsUiF",
        "outputId": "56ddf3db-9a0f-40b6-c840-a49594fa4b0e"
      },
      "outputs": [],
      "source": [
        "!pip install wandb"
      ]
    },
    {
      "cell_type": "markdown",
      "metadata": {
        "id": "ZsrlFj0-l4CQ"
      },
      "source": [
        "## Most common models"
      ]
    },
    {
      "cell_type": "markdown",
      "metadata": {
        "id": "tbp4PGPLl4CQ"
      },
      "source": [
        "### 1. Neural Recommendation with Long- and Short-term User Representations (LSTUR)\n",
        "\n",
        "Paper: https://aclanthology.org/P19-1033.pdf\n",
        "\n",
        "Code : https://github.com/microsoft/recommenders"
      ]
    },
    {
      "cell_type": "code",
      "execution_count": null,
      "metadata": {
        "id": "qwU87vhASatO"
      },
      "outputs": [],
      "source": [
        "from recommenders.models.newsrec.models.lstur import LSTURModel"
      ]
    },
    {
      "cell_type": "code",
      "execution_count": null,
      "metadata": {
        "colab": {
          "base_uri": "https://localhost:8080/"
        },
        "id": "NfFGHCj7yd5O",
        "outputId": "e6e03fe4-0ee1-4d66-e2de-47a7527ec79d"
      },
      "outputs": [],
      "source": [
        "model = LSTURModel(hparams,MINDAllIterator,42)"
      ]
    },
    {
      "cell_type": "markdown",
      "metadata": {
        "id": "IaIh7kr0zMhU"
      },
      "source": [
        "Run without training"
      ]
    },
    {
      "cell_type": "code",
      "execution_count": null,
      "metadata": {
        "colab": {
          "base_uri": "https://localhost:8080/"
        },
        "id": "OSfWKtKPy_yr",
        "outputId": "bf83e862-2372-4f71-ba77-6d4daab26c46"
      },
      "outputs": [],
      "source": [
        "print(model.run_eval(valid_news_file,valid_behaviors_file))"
      ]
    },
    {
      "cell_type": "code",
      "execution_count": null,
      "metadata": {
        "colab": {
          "base_uri": "https://localhost:8080/"
        },
        "id": "zS4yT4VC0uni",
        "outputId": "e30a78c8-2156-40f7-b936-241e0fe977d6"
      },
      "outputs": [],
      "source": [
        "import tensorflow as tf\n",
        "model.fit(train_news_file,train_behaviors_file,valid_news_file,valid_behaviors_file)\n"
      ]
    },
    {
      "cell_type": "markdown",
      "metadata": {
        "id": "ohwrtYhlWFZg"
      },
      "source": [
        "1085it [05:51,  3.09it/s]\n",
        "0it [00:00, ?it/s]/usr/local/lib/python3.7/dist-packages/keras/engine/training_v1.py:2079: UserWarning: `Model.state_updates` will be removed in a future version. This property should not be used in TensorFlow 2.0, as `updates` are applied automatically.\n",
        "  updates=self.state_updates,\n",
        "18693it [00:35, 528.63it/s]\n",
        "7507it [04:23, 28.44it/s]\n",
        "7538it [00:01, 5387.19it/s]\n",
        "at epoch 1\n",
        "train info: logloss loss:1.4877065252049178\n",
        "eval info: group_auc:0.5951, mean_mrr:0.2567, ndcg@10:0.3478, ndcg@5:0.2799\n",
        "at epoch 1 , train time: 351.4 eval time: 311.0\n",
        "<recommenders.models.newsrec.models.lstur.LSTURModel at 0x7ff306242390>"
      ]
    },
    {
      "cell_type": "code",
      "execution_count": null,
      "metadata": {
        "colab": {
          "base_uri": "https://localhost:8080/"
        },
        "id": "XtfG-mtkCmrn",
        "outputId": "51bdfe87-ea6a-48d2-a5d1-da070b90a590"
      },
      "outputs": [],
      "source": [
        "for idx in range(2,5,1):\n",
        "  model.fit(train_news_file,train_behaviors_file,valid_news_file,valid_behaviors_file)"
      ]
    },
    {
      "cell_type": "markdown",
      "metadata": {
        "id": "j35kQOxNWBXd"
      },
      "source": [
        "1085it [05:42,  3.17it/s]\n",
        "18693it [00:34, 537.72it/s]\n",
        "7507it [04:16, 29.26it/s]\n",
        "7538it [00:01, 5635.13it/s]\n",
        "at epoch 1\n",
        "train info: logloss loss:1.4073863327228529\n",
        "eval info: group_auc:0.6251, mean_mrr:0.2773, ndcg@10:0.3703, ndcg@5:0.3056\n",
        "at epoch 1 , train time: 342.7 eval time: 303.1\n",
        "1085it [05:41,  3.18it/s]\n",
        "18693it [00:35, 527.07it/s]\n",
        "7507it [04:21, 28.76it/s]\n",
        "7538it [00:01, 5443.98it/s]\n",
        "at epoch 1\n",
        "train info: logloss loss:1.3618857577099779\n",
        "eval info: group_auc:0.6331, mean_mrr:0.2872, ndcg@10:0.38, ndcg@5:0.3165\n",
        "at epoch 1 , train time: 341.7 eval time: 308.1\n",
        "1085it [05:40,  3.18it/s]\n",
        "18693it [00:33, 562.39it/s]\n",
        "7507it [03:55, 31.91it/s]\n",
        "7538it [00:01, 5645.08it/s]\n",
        "at epoch 1\n",
        "train info: logloss loss:1.3223843703072191\n",
        "eval info: group_auc:0.6389, mean_mrr:0.2982, ndcg@10:0.3871, ndcg@5:0.3252\n",
        "at epoch 1 , train time: 341.0 eval time: 280.0"
      ]
    },
    {
      "cell_type": "code",
      "execution_count": null,
      "metadata": {
        "id": "ohA2wfC6z66f"
      },
      "outputs": [],
      "source": [
        "model.model.save_weights(\"/content/drive/MyDrive/Colab Notebooks/Masterthesis/Models/LSTUR/\",\"LSTUR_weights\")"
      ]
    },
    {
      "cell_type": "code",
      "execution_count": null,
      "metadata": {
        "colab": {
          "base_uri": "https://localhost:8080/"
        },
        "id": "Dd2sKcx-TeZF",
        "outputId": "e09cae55-f31f-43e1-be75-50c300f00c41"
      },
      "outputs": [],
      "source": [
        "logs = []\n",
        "\n",
        "# train info: logloss loss:0\n",
        "# {'group_auc': 0.5102, 'mean_mrr': 0.219, 'ndcg@5': 0.2244, 'ndcg@10': 0.2852}\n",
        "epoch_1 = {}\n",
        "epoch_1[\"group_auc\"] = 0.5102\n",
        "epoch_1[\"mean_mrr\"] = 0.219\n",
        "epoch_1[\"ndcg@10\"] = 0.2244\n",
        "epoch_1[\"ndcg@5\"] = 0.2852\n",
        "epoch_1[\"logloss loss\"] = 0\n",
        "\n",
        "logs.append(epoch_1)\n",
        "\n",
        "# train info: logloss loss:1.4877065252049178\n",
        "# eval info: group_auc:0.5951, mean_mrr:0.2567, ndcg@10:0.3478, ndcg@5:0.2799\n",
        "\n",
        "epoch_1 = {}\n",
        "epoch_1[\"group_auc\"] = 0.5951\n",
        "epoch_1[\"mean_mrr\"] = 0.2567\n",
        "epoch_1[\"ndcg@10\"] = 0.3478\n",
        "epoch_1[\"ndcg@5\"] = 0.2799\n",
        "epoch_1[\"logloss loss\"] = 1.4877065252049178\n",
        "\n",
        "print(epoch_1)\n",
        "\n",
        "logs.append(epoch_1)\n",
        "\n",
        "# train info: logloss loss:1.4073863327228529\n",
        "# eval info: group_auc:0.6251, mean_mrr:0.2773, ndcg@10:0.3703, ndcg@5:0.3056\n",
        "epoch_1 = {}\n",
        "epoch_1[\"group_auc\"] = 0.6251\n",
        "epoch_1[\"mean_mrr\"] = 0.2773\n",
        "epoch_1[\"ndcg@10\"] = 0.3703\n",
        "epoch_1[\"ndcg@5\"] = 0.3056\n",
        "epoch_1[\"logloss loss\"] = 1.4073863327228529\n",
        "\n",
        "logs.append(epoch_1)\n",
        "\n",
        "#train info: logloss loss:1.3618857577099779\n",
        "#eval info: group_auc:0.6331, mean_mrr:0.2872, ndcg@10:0.38, ndcg@5:0.3165\n",
        "\n",
        "epoch_1 = {}\n",
        "epoch_1[\"group_auc\"] = 0.6331\n",
        "epoch_1[\"mean_mrr\"] = 0.2872\n",
        "epoch_1[\"ndcg@10\"] = 0.38\n",
        "epoch_1[\"ndcg@5\"] = 0.3165\n",
        "epoch_1[\"logloss loss\"] = 1.3618857577099779\n",
        "\n",
        "logs.append(epoch_1)\n",
        "\n",
        "# train info: logloss loss:1.3223843703072191\n",
        "# eval info: group_auc:0.6389, mean_mrr:0.2982, ndcg@10:0.3871, ndcg@5:0.3252\n",
        "\n",
        "epoch_1 = {}\n",
        "epoch_1[\"group_auc\"] = 0.6389\n",
        "epoch_1[\"mean_mrr\"] = 0.2982\n",
        "epoch_1[\"ndcg@10\"] = 0.3871\n",
        "epoch_1[\"ndcg@5\"] = 0.3252\n",
        "epoch_1[\"logloss loss\"] = 1.3223843703072191\n",
        "\n",
        "logs.append(epoch_1)\n",
        "\n",
        "for i in range(5):\n",
        "  wandb.log(logs[i],i)\n",
        "\n"
      ]
    },
    {
      "cell_type": "code",
      "execution_count": null,
      "metadata": {
        "id": "Oi4fDJJKXdfy"
      },
      "outputs": [],
      "source": [
        "wandb.log(logs[4],5)"
      ]
    },
    {
      "cell_type": "code",
      "execution_count": null,
      "metadata": {
        "colab": {
          "base_uri": "https://localhost:8080/",
          "height": 291,
          "referenced_widgets": [
            "0200bd007bc34e73ad864fd674f05d94",
            "518cdae1095847509dbe7a096b40f9f5",
            "633a637617704e67b7283e50c2d514f1",
            "05f2b5d1c2cf4ef9b5195a7baafe85c6",
            "4a0c3e0716504251be4f67c103cfb53e",
            "080a80fc706748d6bb7ec1ab3e807aae",
            "2a6cfd1ce2514318a424d2d1351b9067",
            "fe7b3522f67d4202acbc47618ca8635e"
          ]
        },
        "id": "Gd-_vNRE0Qh6",
        "outputId": "fe497ef5-20de-4637-9771-e02e17368177"
      },
      "outputs": [],
      "source": [
        "wandb.finish()"
      ]
    },
    {
      "cell_type": "markdown",
      "metadata": {
        "id": "FQlaQE6Sl4CR"
      },
      "source": [
        "### 2. Neural Recommendation with Attentive Multi-View Learning (NAML)\n",
        "\n",
        "Paper: https://arxiv.org/pdf/1907.05576.pdf\n",
        "\n",
        "Code : https://github.com/wuch15/IJCAI2019-NAML"
      ]
    },
    {
      "cell_type": "code",
      "execution_count": null,
      "metadata": {
        "colab": {
          "base_uri": "https://localhost:8080/"
        },
        "id": "D52uWUIll4CR",
        "outputId": "5240d57e-84ac-4bb2-aaa9-5daa226f7f3d"
      },
      "outputs": [],
      "source": [
        "import tensorflow as tf\n",
        "\n",
        "from recommenders.models.newsrec.models.naml import NAMLModel\n",
        "\n",
        "# MINDAallIterator is the iterator for the NAML model provided by recommenders\n",
        "model = NAMLModel(hparams,MINDAllIterator,42)"
      ]
    },
    {
      "cell_type": "markdown",
      "metadata": {
        "id": "x5d_eW2NJq9z"
      },
      "source": [
        "Fitting demo data with NAML\n"
      ]
    },
    {
      "cell_type": "code",
      "execution_count": null,
      "metadata": {
        "colab": {
          "base_uri": "https://localhost:8080/"
        },
        "id": "tokWI08Hl4CR",
        "outputId": "c912bf19-8970-41f0-a8dd-114e53943a01"
      },
      "outputs": [],
      "source": [
        "print(tf.config.list_physical_devices('GPU'))\n",
        "\n",
        "model.fit(train_news_file,train_behaviors_file,valid_news_file,valid_behaviors_file)\n",
        "\n",
        "#eval_vals = model.run_eval(valid_news_file, valid_behaviors_file)"
      ]
    },
    {
      "cell_type": "code",
      "execution_count": null,
      "metadata": {
        "colab": {
          "base_uri": "https://localhost:8080/"
        },
        "id": "Ra4isAdyI5WY",
        "outputId": "a1756e38-862a-47e9-b8d5-bfc22b429fa2"
      },
      "outputs": [],
      "source": [
        "evals = model.run_eval(valid_news_file, valid_behaviors_file)"
      ]
    },
    {
      "cell_type": "code",
      "execution_count": null,
      "metadata": {
        "colab": {
          "base_uri": "https://localhost:8080/",
          "height": 462,
          "referenced_widgets": [
            "761c80586dc647be9c5d104cdd6c2c27",
            "43c374ad70334be8aac99f78fadfa34b",
            "d974f3d3c9d546aaaabf4e5860929c70",
            "61297c024d7c43619121eb6ff56b0a42",
            "3a79553a555a478ca75b60abd5065519",
            "3ad7d4449af340dfacdc64ad42bc7909",
            "e31709af5a5c40868a9b90408a1be262",
            "4a17e6d6e04246a6a72cc7415e9f46ee"
          ]
        },
        "id": "P-C57FhRNze5",
        "outputId": "592f108d-ef5b-41c2-cef8-07933ac98310"
      },
      "outputs": [],
      "source": [
        "wandb.init(project=\"recommenders_NAML\")"
      ]
    },
    {
      "cell_type": "code",
      "execution_count": null,
      "metadata": {
        "colab": {
          "base_uri": "https://localhost:8080/"
        },
        "id": "outsQWqIJvre",
        "outputId": "84ae3221-ec73-460d-cd75-a93c4ae28c1e"
      },
      "outputs": [],
      "source": [
        "logs = []\n",
        "\n",
        "# logloss loss:1.492940714502115\n",
        "# group_auc:0.5917, mean_mrr:0.2593, ndcg@10:0.3485, ndcg@5:0.2843\n",
        "epoch_1 = {}\n",
        "epoch_1[\"group_auc\"] = 0.5917\n",
        "epoch_1[\"mean_mrr\"] = 0.2593\n",
        "epoch_1[\"ndcg@10\"] = 0.3485\n",
        "epoch_1[\"ndcg@5\"] = 0.2843\n",
        "epoch_1[\"logloss loss\"] = 1.492940714502115\n",
        "\n",
        "logs.append(epoch_1)\n",
        "\n",
        "# logloss loss:1.4204849718902517\n",
        "# group_auc:0.6147, mean_mrr:0.2776, ndcg@10:0.3714, ndcg@5:0.3093\n",
        "\n",
        "epoch_1 = {}\n",
        "epoch_1[\"group_auc\"] = 0.6147\n",
        "epoch_1[\"mean_mrr\"] = 0.2776\n",
        "epoch_1[\"ndcg@10\"] = 0.3714\n",
        "epoch_1[\"ndcg@5\"] = 0.3093\n",
        "epoch_1[\"logloss loss\"] = 1.4204849718902517\n",
        "\n",
        "print(epoch_1)\n",
        "\n",
        "logs.append(epoch_1)\n",
        "\n",
        "# logloss loss:1.3749229467409547\n",
        "# group_auc:0.6234, mean_mrr:0.2792, ndcg@10:0.3742, ndcg@5:0.3084\n",
        "epoch_1 = {}\n",
        "epoch_1[\"group_auc\"] = 0.6234\n",
        "epoch_1[\"mean_mrr\"] = 0.2792\n",
        "epoch_1[\"ndcg@10\"] = 0.3742\n",
        "epoch_1[\"ndcg@5\"] = 0.3084\n",
        "epoch_1[\"logloss loss\"] = 1.3749229467409547\n",
        "\n",
        "logs.append(epoch_1)\n",
        "\n",
        "# logloss loss:1.3430268440378426\n",
        "# group_auc:0.6376, mean_mrr:0.2864, ndcg@10:0.3815, ndcg@5:0.3168\n",
        "\n",
        "epoch_1 = {}\n",
        "epoch_1[\"group_auc\"] = 0.6376\n",
        "epoch_1[\"mean_mrr\"] = 0.2864\n",
        "epoch_1[\"ndcg@10\"] = 0.3815\n",
        "epoch_1[\"ndcg@5\"] = 0.3168\n",
        "epoch_1[\"logloss loss\"] = 1.3430268440378426\n",
        "\n",
        "logs.append(epoch_1)\n",
        "\n",
        "# logloss loss:1.3205334546928582\n",
        "# group_auc:0.6307, mean_mrr:0.2867, ndcg@10:0.3793, ndcg@5:0.3148\n",
        "\n",
        "epoch_1 = {}\n",
        "epoch_1[\"group_auc\"] = 0.6307\n",
        "epoch_1[\"mean_mrr\"] = 0.2867\n",
        "epoch_1[\"ndcg@10\"] = 0.3793\n",
        "epoch_1[\"ndcg@5\"] = 0.3148\n",
        "epoch_1[\"logloss loss\"] = 1.3205334546928582\n",
        "\n",
        "logs.append(epoch_1)\n",
        "\n",
        "for l in logs:\n",
        "  wandb.log(l,)\n",
        "\n"
      ]
    },
    {
      "cell_type": "markdown",
      "metadata": {
        "id": "iqJZ2LUFRlCY"
      },
      "source": [
        "Save trained model (!only run if model has been trained!)"
      ]
    },
    {
      "cell_type": "code",
      "execution_count": null,
      "metadata": {
        "id": "QZ3LwInnIKyR"
      },
      "outputs": [],
      "source": [
        "model.model.save_weights(\"/content/drive/MyDrive/Colab Notebooks/Masterthesis/Models/\",\"NAML_weights\")"
      ]
    },
    {
      "cell_type": "code",
      "execution_count": null,
      "metadata": {
        "id": "_V2k0HARxwCk"
      },
      "outputs": [],
      "source": [
        "import pandas as pd\n",
        "v = pd.read_csv(valid_news_file,\"\\t\")\n",
        "print(v.head())"
      ]
    },
    {
      "cell_type": "markdown",
      "metadata": {
        "id": "nmnWldHhl4CS"
      },
      "source": [
        "### 3. Neural Recommendation with Personalized Attention (NPA)\n",
        "\n",
        "Paper: https://arxiv.org/pdf/1907.05559.pdf\n",
        "\n",
        "Code : https://github.com/wuch15/KDD-NPA"
      ]
    },
    {
      "cell_type": "code",
      "execution_count": null,
      "metadata": {
        "colab": {
          "base_uri": "https://localhost:8080/"
        },
        "id": "MgpirXQspBWI",
        "outputId": "198f9b6e-bd7d-42fc-c259-7006a7d6daa4"
      },
      "outputs": [],
      "source": [
        "import sys\n",
        "import os\n",
        "import numpy as np\n",
        "import zipfile\n",
        "from tqdm import tqdm\n",
        "import scrapbook as sb\n",
        "from tempfile import TemporaryDirectory\n",
        "import tensorflow as tf\n",
        "tf.get_logger().setLevel('ERROR') # only show error messages\n",
        "\n",
        "from recommenders.models.deeprec.deeprec_utils import download_deeprec_resources \n",
        "from recommenders.models.newsrec.newsrec_utils import prepare_hparams\n",
        "from recommenders.models.newsrec.models.npa import NPAModel\n",
        "from recommenders.models.newsrec.io.mind_iterator import MINDIterator\n",
        "from recommenders.models.newsrec.newsrec_utils import get_mind_data_set\n",
        "\n",
        "print(\"System version: {}\".format(sys.version))\n",
        "print(\"Tensorflow version: {}\".format(tf.__version__))"
      ]
    },
    {
      "cell_type": "code",
      "execution_count": null,
      "metadata": {
        "colab": {
          "base_uri": "https://localhost:8080/"
        },
        "id": "3nKr3WkKpG2B",
        "outputId": "6f354e7b-93c0-4e96-9290-199a8ef852e2"
      },
      "outputs": [],
      "source": [
        "epochs = 5\n",
        "seed = 42\n",
        "batch_size = 32\n",
        "\n",
        "# Options: demo, small, large\n",
        "MIND_type = 'demo'\n",
        "\n",
        "tmpdir = TemporaryDirectory()\n",
        "data_path = tmpdir.name\n",
        "\n",
        "train_news_file = os.path.join(data_path, 'train', r'news.tsv')\n",
        "train_behaviors_file = os.path.join(data_path, 'train', r'behaviors.tsv')\n",
        "valid_news_file = os.path.join(data_path, 'valid', r'news.tsv')\n",
        "valid_behaviors_file = os.path.join(data_path, 'valid', r'behaviors.tsv')\n",
        "wordEmb_file = os.path.join(data_path, \"utils\", \"embedding.npy\")\n",
        "userDict_file = os.path.join(data_path, \"utils\", \"uid2index.pkl\")\n",
        "wordDict_file = os.path.join(data_path, \"utils\", \"word_dict.pkl\")\n",
        "yaml_file = os.path.join(data_path, \"utils\", r'npa.yaml')\n",
        "\n",
        "mind_url, mind_train_dataset, mind_dev_dataset, mind_utils = get_mind_data_set(MIND_type)\n",
        "\n",
        "if not os.path.exists(train_news_file):\n",
        "    download_deeprec_resources(mind_url, os.path.join(data_path, 'train'), mind_train_dataset)\n",
        "    \n",
        "if not os.path.exists(valid_news_file):\n",
        "    download_deeprec_resources(mind_url, \\\n",
        "                               os.path.join(data_path, 'valid'), mind_dev_dataset)\n",
        "if not os.path.exists(yaml_file):\n",
        "    download_deeprec_resources(r'https://recodatasets.z20.web.core.windows.net/newsrec/', \\\n",
        "                               os.path.join(data_path, 'utils'), mind_utils)"
      ]
    },
    {
      "cell_type": "code",
      "execution_count": null,
      "metadata": {
        "colab": {
          "base_uri": "https://localhost:8080/"
        },
        "id": "ps-KciO8pOqJ",
        "outputId": "8eb1b738-f6d3-4b29-c4d3-e8398ede9f41"
      },
      "outputs": [],
      "source": [
        "hparams = prepare_hparams(yaml_file, \n",
        "                          wordEmb_file=wordEmb_file,\n",
        "                          wordDict_file=wordDict_file, \n",
        "                          userDict_file=userDict_file,\n",
        "                          batch_size=batch_size,\n",
        "                          epochs=epochs)\n",
        "print(hparams)"
      ]
    },
    {
      "cell_type": "code",
      "execution_count": null,
      "metadata": {
        "colab": {
          "base_uri": "https://localhost:8080/"
        },
        "id": "0OaXo2qoaJaL",
        "outputId": "2aa47a3e-6ddb-4c91-9585-2dd622fd805c"
      },
      "outputs": [],
      "source": [
        "from recommenders.models.newsrec.models.npa import NPAModel\n",
        "\n",
        "# MINDAallIterator is the iterator for the NPA model provided by recommenders\n",
        "model = NPAModel(hparams,MINDAllIterator,42)"
      ]
    },
    {
      "cell_type": "code",
      "execution_count": null,
      "metadata": {
        "colab": {
          "base_uri": "https://localhost:8080/"
        },
        "id": "TsHg8LzmpUxw",
        "outputId": "ab79738c-b3cc-49c7-ae1a-cbb63446c254"
      },
      "outputs": [],
      "source": [
        "model = NPAModel(hparams, MINDIterator, seed=seed)"
      ]
    },
    {
      "cell_type": "code",
      "execution_count": null,
      "metadata": {
        "colab": {
          "base_uri": "https://localhost:8080/"
        },
        "id": "pAHXbN47n4yI",
        "outputId": "c295a04b-7ac5-4d32-a026-620ebbebe7c2"
      },
      "outputs": [],
      "source": [
        "model.run_eval(valid_news_file,valid_behaviors_file)"
      ]
    },
    {
      "cell_type": "code",
      "execution_count": null,
      "metadata": {
        "colab": {
          "base_uri": "https://localhost:8080/"
        },
        "id": "A_f98nUEprKk",
        "outputId": "639cf25b-1aaa-4234-f40a-722965b56125"
      },
      "outputs": [],
      "source": [
        "model.fit(train_news_file,train_behaviors_file,valid_news_file,valid_behaviors_file)"
      ]
    },
    {
      "cell_type": "code",
      "execution_count": null,
      "metadata": {
        "colab": {
          "base_uri": "https://localhost:8080/",
          "height": 107
        },
        "id": "EXuIt9NSwxkB",
        "outputId": "f55842ad-b8d7-4570-c22f-3c8b552a744f"
      },
      "outputs": [],
      "source": [
        "import wandb\n",
        "wandb.init(project=\"recommenders_NAML\")"
      ]
    },
    {
      "cell_type": "code",
      "execution_count": null,
      "metadata": {
        "colab": {
          "base_uri": "https://localhost:8080/"
        },
        "id": "S6qfezbcw-4b",
        "outputId": "a0030e54-da2e-4393-f686-8fcdc2356c0f"
      },
      "outputs": [],
      "source": [
        "logs = []\n",
        "\n",
        "# train info: logloss loss:0\n",
        "# {'group_auc': 0.5229, 'mean_mrr': 0.2328, 'ndcg@10': 0.303, 'ndcg@5': 0.2376}\n",
        "epoch_1 = {}\n",
        "epoch_1[\"group_auc\"] = 0.5229\n",
        "epoch_1[\"mean_mrr\"] = 0.2328\n",
        "epoch_1[\"ndcg@10\"] = 0.303\n",
        "epoch_1[\"ndcg@5\"] = 0.2376\n",
        "epoch_1[\"logloss loss\"] = 0\n",
        "\n",
        "logs.append(epoch_1)\n",
        "\n",
        "# train info: logloss loss:1.5230483573005564\n",
        "# eval info: group_auc:0.5738, mean_mrr:0.247, ndcg@10:0.3324, ndcg@5:0.2635\n",
        "\n",
        "epoch_1 = {}\n",
        "epoch_1[\"group_auc\"] = 0.5738\n",
        "epoch_1[\"mean_mrr\"] = 0.247\n",
        "epoch_1[\"ndcg@10\"] = 0.3324\n",
        "epoch_1[\"ndcg@5\"] = 0.2635\n",
        "epoch_1[\"logloss loss\"] = 1.5230483573005564\n",
        "\n",
        "print(epoch_1)\n",
        "\n",
        "logs.append(epoch_1)\n",
        "\n",
        "#train info: logloss loss:1.410849888241313\n",
        "# eval info: group_auc:0.5926, mean_mrr:0.2636, ndcg@10:0.3488, ndcg@5:0.2863\n",
        "epoch_1 = {}\n",
        "epoch_1[\"group_auc\"] = 0.5926\n",
        "epoch_1[\"mean_mrr\"] = 0.2636\n",
        "epoch_1[\"ndcg@10\"] = 0.3488\n",
        "epoch_1[\"ndcg@5\"] = 0.2863\n",
        "epoch_1[\"logloss loss\"] = 1.410849888241313\n",
        "\n",
        "logs.append(epoch_1)\n",
        "\n",
        "#train info: logloss loss:1.350137528903357\n",
        "# eval info: group_auc:0.5997, mean_mrr:0.2699, ndcg@10:0.3581, ndcg@5:0.2927\n",
        "\n",
        "epoch_1 = {}\n",
        "epoch_1[\"group_auc\"] = 0.5997\n",
        "epoch_1[\"mean_mrr\"] = 0.2699\n",
        "epoch_1[\"ndcg@10\"] = 0.3581\n",
        "epoch_1[\"ndcg@5\"] = 0.2927\n",
        "epoch_1[\"logloss loss\"] = 1.350137528903357\n",
        "\n",
        "logs.append(epoch_1)\n",
        "\n",
        "# train info: logloss loss:1.297524843591353\n",
        "# eval info: group_auc:0.5957, mean_mrr:0.2693, ndcg@10:0.3557, ndcg@5:0.292\n",
        "\n",
        "epoch_1 = {}\n",
        "epoch_1[\"group_auc\"] = 0.5957\n",
        "epoch_1[\"mean_mrr\"] = 0.2693\n",
        "epoch_1[\"ndcg@10\"] = 0.3557\n",
        "epoch_1[\"ndcg@5\"] = 0.292\n",
        "epoch_1[\"logloss loss\"] = 1.297524843591353\n",
        "\n",
        "logs.append(epoch_1)\n",
        "\n",
        "# train info: logloss loss:1.2605716042206871\n",
        "# eval info: group_auc:0.5975, mean_mrr:0.2695, ndcg@10:0.3574, ndcg@5:0.2914\n",
        "\n",
        "\n",
        "epoch_1 = {}\n",
        "epoch_1[\"group_auc\"] = 0.5975\n",
        "epoch_1[\"mean_mrr\"] = 0.2695\n",
        "epoch_1[\"ndcg@10\"] = 0.3574\n",
        "epoch_1[\"ndcg@5\"] = 0.2914\n",
        "epoch_1[\"logloss loss\"] = 1.2605716042206871\n",
        "logs.append(epoch_1)\n",
        "\n",
        "\n",
        "for i in range(5):\n",
        "  wandb.log(logs[i],i)\n",
        "\n",
        "wandb.log(logs[4],5)\n",
        "\n",
        "wandb.log(logs[5],6)"
      ]
    },
    {
      "cell_type": "code",
      "execution_count": null,
      "metadata": {
        "colab": {
          "base_uri": "https://localhost:8080/",
          "height": 291,
          "referenced_widgets": [
            "b7676a1488014228afb99175a4e6b76a",
            "275aaad93a6d40deb92d3070cc14c002",
            "452fcdb9b70f426aa6925dc72192e76f",
            "73cf4180ba1441eeac6aee7ad4dea112",
            "33b29968fed6400180bf3d184d339f4d",
            "0f37c786677b4ed998ee18a1a1d25f8a",
            "f05848e35ce84bb5aa77ff50cc2ba0c2",
            "4a8add20e73f4ea19e9e74dfb785c6c9"
          ]
        },
        "id": "nlVJp22yy41O",
        "outputId": "c6178210-2230-49fd-d676-2fbe84d55c74"
      },
      "outputs": [],
      "source": [
        "wandb.finish()"
      ]
    },
    {
      "cell_type": "code",
      "execution_count": null,
      "metadata": {
        "id": "wduyykDCzDwt"
      },
      "outputs": [],
      "source": [
        "model.model.save_weights(\"/content/drive/MyDrive/Colab Notebooks/Masterthesis/Models/NPA/\",\"NPA_weights\")"
      ]
    },
    {
      "cell_type": "markdown",
      "metadata": {
        "id": "UCaV4bX-l4CS"
      },
      "source": [
        "### 4.Neural Recommendation with Multi-Head Self-Attention (NRMS)\n",
        "\n",
        "Paper: https://aclanthology.org/D19-1671.pdf\n",
        "\n",
        "Code : https://github.com/aqweteddy/NRMS-Pytorch || https://github.com/wuch15/EMNLP2019-NRMS"
      ]
    },
    {
      "cell_type": "code",
      "execution_count": null,
      "metadata": {
        "colab": {
          "base_uri": "https://localhost:8080/",
          "height": 125
        },
        "id": "igBqobS1Yhz5",
        "outputId": "5e18c2ab-df5b-4c51-fa8e-28059bf1484b"
      },
      "outputs": [],
      "source": [
        "from recommenders.models.newsrec.models.nrms import NRMSModel\n",
        "\n",
        "# MINDAallIterator is the iterator for the NAML model provided by recommenders\n",
        "model = NRMSModel(hparams,MINDAllIterator,42)\n",
        "\n",
        "wandb.init(project=\"recommenders_NAML\")"
      ]
    },
    {
      "cell_type": "code",
      "execution_count": null,
      "metadata": {
        "colab": {
          "base_uri": "https://localhost:8080/"
        },
        "id": "TgMZwIkdZdwT",
        "outputId": "f045e644-aa6c-458f-9a9e-961b25d6bf1d"
      },
      "outputs": [],
      "source": [
        "print(model.run_eval(valid_news_file, valid_behaviors_file))\n",
        "model.fit(train_news_file,train_behaviors_file,valid_news_file, valid_behaviors_file)"
      ]
    },
    {
      "cell_type": "code",
      "execution_count": null,
      "metadata": {
        "colab": {
          "base_uri": "https://localhost:8080/"
        },
        "id": "v2SpIdAHZ2zD",
        "outputId": "f71df531-8337-45e5-bc8e-ef76186c0cd9"
      },
      "outputs": [],
      "source": [
        "logs = []\n",
        "\n",
        "# train info: logloss loss:0\n",
        "# {'group_auc': 0.4796, 'mean_mrr': 0.206, 'ndcg@5': 0.204, 'ndcg@10': 0.2704}\n",
        "epoch_1 = {}\n",
        "epoch_1[\"group_auc\"] = 0.4796\n",
        "epoch_1[\"mean_mrr\"] = 0.206\n",
        "epoch_1[\"ndcg@10\"] = .2704\n",
        "epoch_1[\"ndcg@5\"] = 0.204\n",
        "epoch_1[\"logloss loss\"] = 0\n",
        "\n",
        "logs.append(epoch_1)\n",
        "\n",
        "# train info: logloss loss:1.5073325152770716\n",
        "# eval info: group_auc:0.5827, mean_mrr:0.2467, ndcg@10:0.3337, ndcg@5:0.262\n",
        "\n",
        "epoch_1 = {}\n",
        "epoch_1[\"group_auc\"] = 0.5827\n",
        "epoch_1[\"mean_mrr\"] = 0.2467\n",
        "epoch_1[\"ndcg@10\"] = 0.3337\n",
        "epoch_1[\"ndcg@5\"] = 0.262\n",
        "epoch_1[\"logloss loss\"] = 1.5073325152770716\n",
        "\n",
        "print(epoch_1)\n",
        "\n",
        "logs.append(epoch_1)\n",
        "\n",
        "#train info: logloss loss:1.4173318097118959\n",
        "#eval info: group_auc:0.6035, mean_mrr:0.2589, ndcg@10:0.3496, ndcg@5:0.2768\n",
        "epoch_1 = {}\n",
        "epoch_1[\"group_auc\"] = 0.6035\n",
        "epoch_1[\"mean_mrr\"] = 0.2589\n",
        "epoch_1[\"ndcg@10\"] = 0.3496\n",
        "epoch_1[\"ndcg@5\"] = 0.2768\n",
        "epoch_1[\"logloss loss\"] = 1.4173318097118959\n",
        "\n",
        "logs.append(epoch_1)\n",
        "\n",
        "#train info: logloss loss:1.3772375062863398\n",
        "#eval info: group_auc:0.6092, mean_mrr:0.2671, ndcg@10:0.3593, ndcg@5:0.2868\n",
        "\n",
        "epoch_1 = {}\n",
        "epoch_1[\"group_auc\"] = 0.6092\n",
        "epoch_1[\"mean_mrr\"] = 0.2671\n",
        "epoch_1[\"ndcg@10\"] = 0.3593\n",
        "epoch_1[\"ndcg@5\"] = 0.2868\n",
        "epoch_1[\"logloss loss\"] = 1.3772375062863398\n",
        "\n",
        "logs.append(epoch_1)\n",
        "\n",
        "# train info: logloss loss:1.35041045747045\n",
        "# eval info: group_auc:0.6147, mean_mrr:0.2723, ndcg@10:0.3652, ndcg@5:0.2958\n",
        "\n",
        "epoch_1 = {}\n",
        "epoch_1[\"group_auc\"] = 0.6147\n",
        "epoch_1[\"mean_mrr\"] = 0.2723\n",
        "epoch_1[\"ndcg@10\"] = 0.3652\n",
        "epoch_1[\"ndcg@5\"] = 0.2958\n",
        "epoch_1[\"logloss loss\"] = 1.35041045747045\n",
        "\n",
        "logs.append(epoch_1)\n",
        "\n",
        "for i in range(5):\n",
        "  wandb.log(logs[i],i)\n",
        "\n",
        "wandb.log(logs[4],5)"
      ]
    },
    {
      "cell_type": "code",
      "execution_count": null,
      "metadata": {
        "id": "nYqj8nyrjmtf"
      },
      "outputs": [],
      "source": [
        "# train info: logloss loss:1.3277907189685627\n",
        "# eval info: group_auc:0.6138, mean_mrr:0.2733, ndcg@10:0.3662, ndcg@5:0.2955\n",
        "\n",
        "\n",
        "epoch_1 = {}\n",
        "epoch_1[\"group_auc\"] = 0.6138\n",
        "epoch_1[\"mean_mrr\"] = 0.2733\n",
        "epoch_1[\"ndcg@10\"] = 0.3662\n",
        "epoch_1[\"ndcg@5\"] = 0.2955\n",
        "epoch_1[\"logloss loss\"] = 1.3277907189685627\n",
        "\n",
        "logs.append(epoch_1)\n",
        "wandb.log(logs[5],6)\n"
      ]
    },
    {
      "cell_type": "code",
      "execution_count": null,
      "metadata": {
        "colab": {
          "base_uri": "https://localhost:8080/",
          "height": 291,
          "referenced_widgets": [
            "e71f8dd3a5784d3dabef3116aeb42980",
            "110bbc2233804e25b1fd08a901d8ff82",
            "d8b56787af704f1c87bb4f123cb68484",
            "1efe27b2340a495db36a4a39013dc885",
            "4a4e6bbf77c547d19b8e9c9d0df0d3ca",
            "b227fbb7dc9546d5bc3eb7cd1be8de92",
            "857ff788b86a45cf8815c5819ca8973e",
            "cbaa4d2265b04ca5bec40fbb401ee72e"
          ]
        },
        "id": "klJn9g7rj6f6",
        "outputId": "3a621f67-2eb7-4b46-b9f7-52161c26755f"
      },
      "outputs": [],
      "source": [
        "wandb.finish()"
      ]
    },
    {
      "cell_type": "code",
      "execution_count": null,
      "metadata": {
        "id": "vUmaYG2sZ2PU"
      },
      "outputs": [],
      "source": [
        "model.model.save_weights(\"/content/drive/MyDrive/Colab Notebooks/Masterthesis/Models/NRMS/\",\"NRMS_weights\")"
      ]
    },
    {
      "cell_type": "markdown",
      "metadata": {},
      "source": [
        "### Deep Knowledge-Aware Network for News Recommendation\n",
        "\n",
        "Paper: https://arxiv.org/pdf/1801.08284.pdf\n",
        "\n",
        "Code: https://github.com/microsoft/recommenders"
      ]
    },
    {
      "cell_type": "code",
      "execution_count": null,
      "metadata": {},
      "outputs": [],
      "source": [
        "# Needed imports\n",
        "from recommenders.models.deeprec.deeprec_utils import download_deeprec_resources, prepare_hparams\n",
        "from recommenders.models.deeprec.models.dkn import DKN\n",
        "from recommenders.models.deeprec.io.dkn_iterator import DKNTextIterator"
      ]
    },
    {
      "cell_type": "code",
      "execution_count": null,
      "metadata": {},
      "outputs": [],
      "source": [
        "tmpdir = TemporaryDirectory()\n",
        "data_path = os.path.join(tmpdir.name, \"mind-demo-dkn\")\n",
        "\n",
        "yaml_file = os.path.join(data_path, r'dkn.yaml')\n",
        "train_file = os.path.join(data_path, r'train_mind_demo.txt')\n",
        "valid_file = os.path.join(data_path, r'valid_mind_demo.txt')\n",
        "test_file = os.path.join(data_path, r'test_mind_demo.txt')\n",
        "news_feature_file = os.path.join(data_path, r'doc_feature.txt')\n",
        "user_history_file = os.path.join(data_path, r'user_history.txt')\n",
        "wordEmb_file = os.path.join(data_path, r'word_embeddings_100.npy')\n",
        "entityEmb_file = os.path.join(data_path, r'TransE_entity2vec_100.npy')\n",
        "contextEmb_file = os.path.join(data_path, r'TransE_context2vec_100.npy')\n",
        "if not os.path.exists(yaml_file):\n",
        "    download_deeprec_resources(r'https://recodatasets.z20.web.core.windows.net/deeprec/', tmpdir.name, 'mind-demo-dkn.zip')"
      ]
    },
    {
      "cell_type": "code",
      "execution_count": null,
      "metadata": {},
      "outputs": [],
      "source": [
        "epochs = 5\n",
        "history_size = 50\n",
        "batch_size = 100\n",
        "\n",
        "hparams = prepare_hparams(yaml_file,\n",
        "                          news_feature_file = news_feature_file,\n",
        "                          user_history_file = user_history_file,\n",
        "                          wordEmb_file=wordEmb_file,\n",
        "                          entityEmb_file=entityEmb_file,\n",
        "                          contextEmb_file=contextEmb_file,\n",
        "                          epochs=epochs,\n",
        "                          history_size=history_size,\n",
        "                          batch_size=batch_size)"
      ]
    },
    {
      "cell_type": "code",
      "execution_count": null,
      "metadata": {},
      "outputs": [],
      "source": [
        "model = DKN(hparams, DKNTextIterator)"
      ]
    },
    {
      "cell_type": "code",
      "execution_count": null,
      "metadata": {},
      "outputs": [],
      "source": [
        "import wandb"
      ]
    },
    {
      "cell_type": "code",
      "execution_count": null,
      "metadata": {},
      "outputs": [],
      "source": [
        "wandb.init(project = \"recommenders_NAML\")"
      ]
    },
    {
      "cell_type": "code",
      "execution_count": null,
      "metadata": {},
      "outputs": [],
      "source": [
        "wandb.log(model.run_eval(valid_file))"
      ]
    },
    {
      "cell_type": "code",
      "execution_count": null,
      "metadata": {},
      "outputs": [],
      "source": [
        "model.fit(train_file, valid_file)"
      ]
    },
    {
      "cell_type": "code",
      "execution_count": null,
      "metadata": {},
      "outputs": [],
      "source": [
        "print(\"Num GPUs Available: \", len(tf.config.list_physical_devices('GPU')))"
      ]
    },
    {
      "cell_type": "code",
      "execution_count": null,
      "metadata": {},
      "outputs": [],
      "source": [
        "os.environ[\"CUDA_VISIBLE_DEVICES\"]=\"-1\""
      ]
    },
    {
      "cell_type": "markdown",
      "metadata": {},
      "source": [
        "# Learn and Visualize"
      ]
    },
    {
      "cell_type": "code",
      "execution_count": null,
      "metadata": {},
      "outputs": [],
      "source": [
        "# Necessary imports\n",
        "\n",
        "import sys\n",
        "import os\n",
        "\n",
        "if \"../recommenders\" not in sys.path:\n",
        "    sys.path.insert(0,\"../recommenders\")\n",
        "    \n",
        "# ! Before importing tensorflow set devices (-1 for NO GPU Acceleration)\n",
        "os.environ[\"CUDA_VISIBLE_DEVICES\"]=\"-1\"\n",
        "\n",
        "from tempfile import TemporaryDirectory\n",
        "import scrapbook as sb\n",
        "import tensorflow as tf\n",
        "print(f\"System version: {sys.version}\")\n",
        "print(f\"Tensorflow version: {tf.__version__}\")\n",
        "tf.get_logger().setLevel('ERROR') # only show error messages\n",
        "\n",
        "print(\"Num GPUs Available: \", len(tf.config.list_physical_devices('GPU')))\n",
        "\n",
        "# Imports for the preprocessed mind data / pretrained embeddings\n",
        "from recommenders.models.newsrec.io.mind_iterator import MINDIterator\n",
        "from recommenders.models.newsrec.newsrec_utils import get_mind_data_set\n",
        "from recommenders.models.deeprec.deeprec_utils import download_deeprec_resources\n",
        "from recommenders.models.deeprec.deeprec_utils import prepare_hparams as prepare_hparams_dr\n",
        "from recommenders.models.newsrec.newsrec_utils import prepare_hparams\n",
        "\n",
        "# Import for the models\n",
        "##  Newsrec models\n",
        "from recommenders.models.newsrec.models.lstur import LSTURModel\n",
        "from recommenders.models.newsrec.models.naml import NAMLModel\n",
        "from recommenders.models.newsrec.models.npa import NPAModel\n",
        "from recommenders.models.newsrec.models.nrms import NRMSModel\n",
        "\n",
        "##  Deeprec models\n",
        "from recommenders.models.deeprec.models.dkn import DKN\n",
        "from recommenders.models.deeprec.io.dkn_iterator import DKNTextIterator\n"
      ]
    },
    {
      "cell_type": "code",
      "execution_count": 3,
      "metadata": {},
      "outputs": [
        {
          "name": "stdout",
          "output_type": "stream",
          "text": [
            "[PhysicalDevice(name='/physical_device:CPU:0', device_type='CPU'), PhysicalDevice(name='/physical_device:GPU:0', device_type='GPU')]\n"
          ]
        }
      ],
      "source": [
        "print(tf.config.list_physical_devices())"
      ]
    },
    {
      "cell_type": "code",
      "execution_count": 2,
      "metadata": {},
      "outputs": [
        {
          "name": "stderr",
          "output_type": "stream",
          "text": [
            "100%|██████████| 17.0k/17.0k [00:01<00:00, 12.8kKB/s]\n",
            "100%|██████████| 9.84k/9.84k [00:01<00:00, 8.26kKB/s]\n",
            "100%|██████████| 95.0k/95.0k [00:04<00:00, 20.9kKB/s]\n",
            "100%|██████████| 11.3k/11.3k [00:01<00:00, 10.2kKB/s]\n"
          ]
        }
      ],
      "source": [
        "# Files needed for News recommendation models (NPA,NAML,NRMS,LSTUR)\n",
        "tmpdir = TemporaryDirectory()\n",
        "data_path = tmpdir.name\n",
        "\n",
        "train_news_file = os.path.join(data_path, 'train', r'news.tsv')\n",
        "train_behaviors_file = os.path.join(data_path, 'train', r'behaviors.tsv')\n",
        "valid_news_file = os.path.join(data_path, 'valid', r'news.tsv')\n",
        "valid_behaviors_file = os.path.join(data_path, 'valid', r'behaviors.tsv')\n",
        "wordEmb_file = os.path.join(data_path, \"utils\", \"embedding_all.npy\")\n",
        "userDict_file = os.path.join(data_path, \"utils\", \"uid2index.pkl\")\n",
        "wordDict_file = os.path.join(data_path, \"utils\", \"word_dict_all.pkl\")\n",
        "vertDict_file = os.path.join(data_path, \"utils\", \"vert_dict.pkl\")\n",
        "subvertDict_file = os.path.join(data_path, \"utils\", \"subvert_dict.pkl\")\n",
        "yaml_file = os.path.join(data_path, \"utils\", r'naml.yaml')\n",
        "\n",
        "# Use demo code here\n",
        "mind_url, mind_train_dataset, mind_dev_dataset, mind_utils = get_mind_data_set(\"demo\")\n",
        "\n",
        "if not os.path.exists(train_news_file):\n",
        "    download_deeprec_resources(mind_url, os.path.join(data_path, 'train'), mind_train_dataset)\n",
        "    \n",
        "if not os.path.exists(valid_news_file):\n",
        "    download_deeprec_resources(mind_url, \\\n",
        "                               os.path.join(data_path, 'valid'), mind_dev_dataset)\n",
        "if not os.path.exists(yaml_file):\n",
        "    download_deeprec_resources(r'https://recodatasets.z20.web.core.windows.net/newsrec/', \\\n",
        "                               os.path.join(data_path, 'utils'), mind_utils)\n",
        "\n",
        "\n",
        "# Files needed for Deep News recommendation models (DKN)\n",
        "data_path_dkn = os.path.join(tmpdir.name, \"mind-demo-dkn\")\n",
        "\n",
        "yaml_file_dkn = os.path.join(data_path_dkn, r'dkn.yaml')\n",
        "train_file_dkn = os.path.join(data_path_dkn, r'train_mind_demo.txt')\n",
        "valid_file_dkn = os.path.join(data_path_dkn, r'valid_mind_demo.txt')\n",
        "test_file_dkn = os.path.join(data_path_dkn, r'test_mind_demo.txt')\n",
        "news_feature_file_dkn = os.path.join(data_path_dkn, r'doc_feature.txt')\n",
        "user_history_file_dkn = os.path.join(data_path_dkn, r'user_history.txt')\n",
        "wordEmb_file_dkn = os.path.join(data_path_dkn, r'word_embeddings_100.npy')\n",
        "entityEmb_file_dkn = os.path.join(data_path_dkn, r'TransE_entity2vec_100.npy')\n",
        "contextEmb_file_dkn = os.path.join(data_path_dkn, r'TransE_context2vec_100.npy')\n",
        "if not os.path.exists(yaml_file_dkn):\n",
        "    download_deeprec_resources(r'https://recodatasets.z20.web.core.windows.net/deeprec/', tmpdir.name, 'mind-demo-dkn.zip')\n"
      ]
    },
    {
      "cell_type": "code",
      "execution_count": 3,
      "metadata": {},
      "outputs": [],
      "source": [
        "epochs = 10\n",
        "seed = 42\n",
        "# Batch size for Newsrec models \n",
        "batch_size = 32\n",
        "\n",
        "history_size = 50"
      ]
    },
    {
      "attachments": {},
      "cell_type": "markdown",
      "metadata": {},
      "source": [
        "Setup all needed hyperparameters for the models"
      ]
    },
    {
      "cell_type": "code",
      "execution_count": 4,
      "metadata": {},
      "outputs": [],
      "source": [
        "hparams = {}\n",
        "\n",
        "hparams[\"lstur\"] = prepare_hparams(yaml_file, \n",
        "                          wordEmb_file=wordEmb_file,\n",
        "                          wordDict_file=wordDict_file, \n",
        "                          userDict_file=userDict_file,\n",
        "                          vertDict_file=vertDict_file, \n",
        "                          subvertDict_file=subvertDict_file,\n",
        "                          batch_size=batch_size,\n",
        "                          epochs=epochs)\n",
        "hparams[\"naml\"] = prepare_hparams(yaml_file, \n",
        "                          wordEmb_file=wordEmb_file,\n",
        "                          wordDict_file=wordDict_file, \n",
        "                          userDict_file=userDict_file,\n",
        "                          vertDict_file=vertDict_file, \n",
        "                          subvertDict_file=subvertDict_file,\n",
        "                          batch_size=batch_size,\n",
        "                          epochs=epochs)\n",
        "\n",
        "hparams[\"npa\"] = prepare_hparams(yaml_file, \n",
        "                          wordEmb_file=wordEmb_file,\n",
        "                          wordDict_file=wordDict_file, \n",
        "                          userDict_file=userDict_file,\n",
        "                          vertDict_file=vertDict_file, \n",
        "                          subvertDict_file=subvertDict_file,\n",
        "                          batch_size=batch_size,\n",
        "                          epochs=epochs)\n",
        "\n",
        "\n",
        "hparams[\"nrms\"] = prepare_hparams(yaml_file, \n",
        "                          wordEmb_file=wordEmb_file,\n",
        "                          wordDict_file=wordDict_file, \n",
        "                          userDict_file=userDict_file,\n",
        "                          vertDict_file=vertDict_file, \n",
        "                          subvertDict_file=subvertDict_file,\n",
        "                          batch_size=batch_size,\n",
        "                          epochs=epochs)\n",
        "\n",
        "hparams[\"dkn\"] = prepare_hparams_dr(yaml_file_dkn,\n",
        "                          news_feature_file = news_feature_file_dkn,\n",
        "                          user_history_file = user_history_file_dkn,\n",
        "                          wordEmb_file=wordEmb_file_dkn,\n",
        "                          entityEmb_file=entityEmb_file_dkn,\n",
        "                          contextEmb_file=contextEmb_file_dkn,\n",
        "                          epochs=epochs,\n",
        "                          history_size=history_size,\n",
        "                          batch_size=100)"
      ]
    },
    {
      "cell_type": "code",
      "execution_count": 5,
      "metadata": {},
      "outputs": [],
      "source": [
        "hparams[\"test\"] = prepare_hparams(yaml_file, \n",
        "                          wordEmb_file=wordEmb_file,\n",
        "                          wordDict_file=wordDict_file, \n",
        "                          userDict_file=userDict_file,\n",
        "                          vertDict_file=vertDict_file, \n",
        "                          subvertDict_file=subvertDict_file,\n",
        "                          batch_size=1,\n",
        "                          epochs=epochs)"
      ]
    },
    {
      "cell_type": "markdown",
      "metadata": {},
      "source": [
        "WandB"
      ]
    },
    {
      "cell_type": "code",
      "execution_count": 8,
      "metadata": {},
      "outputs": [
        {
          "name": "stderr",
          "output_type": "stream",
          "text": [
            "Failed to detect the name of this notebook, you can set it manually with the WANDB_NOTEBOOK_NAME environment variable to enable code saving.\n",
            "\u001b[34m\u001b[1mwandb\u001b[0m: Currently logged in as: \u001b[33mlakin\u001b[0m. Use \u001b[1m`wandb login --relogin`\u001b[0m to force relogin\n"
          ]
        },
        {
          "data": {
            "text/plain": [
              "True"
            ]
          },
          "execution_count": 8,
          "metadata": {},
          "output_type": "execute_result"
        }
      ],
      "source": [
        "import wandb\n",
        "wandb.login()"
      ]
    },
    {
      "cell_type": "code",
      "execution_count": null,
      "metadata": {},
      "outputs": [],
      "source": [
        "wandb.init(project=\"NewsRecommendationModels\",name=\"LSTUR\",reinit=True)\n",
        "lstur = LSTURModel(hparams[\"lstur\"],MINDIterator,seed)\n",
        "\n",
        "wandb.log(lstur.run_eval(valid_news_file,valid_behaviors_file))\n",
        "lstur.fit(train_news_file, train_behaviors_file, valid_news_file, valid_behaviors_file)\n",
        "\n",
        "wandb.finish()"
      ]
    },
    {
      "cell_type": "code",
      "execution_count": null,
      "metadata": {},
      "outputs": [],
      "source": [
        "print(tf.config.list_physical_devices('GPU'))"
      ]
    },
    {
      "cell_type": "code",
      "execution_count": null,
      "metadata": {},
      "outputs": [],
      "source": [
        "from recommenders.models.newsrec.io.mind_all_iterator import MINDAllIterator"
      ]
    },
    {
      "cell_type": "code",
      "execution_count": null,
      "metadata": {},
      "outputs": [],
      "source": [
        "wandb.init(project=\"NewsRecommendationModels\",name=\"NAML\",reinit=True)\n",
        "naml = NAMLModel(hparams[\"naml\"],MINDAllIterator,seed)\n",
        "\n",
        "wandb.log(naml.run_eval(valid_news_file,valid_behaviors_file))\n",
        "naml.fit(train_news_file, train_behaviors_file, valid_news_file, valid_behaviors_file)\n",
        "\n",
        "wandb.finish()"
      ]
    },
    {
      "cell_type": "code",
      "execution_count": null,
      "metadata": {},
      "outputs": [],
      "source": [
        "wandb.init(project=\"Run_Recmetrics\",name=\"NRMS\",reinit=True)\n",
        "nrms = NRMSModel(hparams[\"nrms\"],MINDIterator,seed)\n",
        "\n",
        "wandb.log(nrms.run_eval(valid_news_file,valid_behaviors_file))\n",
        "nrms.fit(train_news_file, train_behaviors_file, valid_news_file, valid_behaviors_file)\n",
        "\n",
        "wandb.finish()"
      ]
    },
    {
      "cell_type": "code",
      "execution_count": null,
      "metadata": {},
      "outputs": [],
      "source": [
        "wandb.init(project=\"NewsRecommendationModels\",name=\"NPA\",reinit=True)\n",
        "npa = NRMSModel(hparams[\"npa\"],MINDIterator,seed)\n",
        "\n",
        "wandb.log(npa.run_eval(valid_news_file,valid_behaviors_file))\n",
        "npa.fit(train_news_file, train_behaviors_file, valid_news_file, valid_behaviors_file)\n",
        "\n",
        "wandb.finish()"
      ]
    },
    {
      "cell_type": "code",
      "execution_count": null,
      "metadata": {},
      "outputs": [],
      "source": [
        "wandb.init(project=\"NewsRecommendationModels\",name=\"DKN\",reinit=True)\n",
        "dkn = DKN(hparams[\"dkn\"],DKNTextIterator)\n",
        "\n",
        "wandb.log(dkn.run_eval(valid_file_dkn))\n",
        "dkn.fit(train_file_dkn, valid_file_dkn)\n",
        "\n",
        "wandb.finish()"
      ]
    },
    {
      "cell_type": "code",
      "execution_count": null,
      "metadata": {},
      "outputs": [],
      "source": [
        "wandb.finish()"
      ]
    },
    {
      "cell_type": "markdown",
      "metadata": {},
      "source": [
        "## RecMetrics"
      ]
    },
    {
      "cell_type": "code",
      "execution_count": null,
      "metadata": {},
      "outputs": [],
      "source": [
        "print(tf.config.list_physical_devices())"
      ]
    },
    {
      "cell_type": "code",
      "execution_count": 6,
      "metadata": {},
      "outputs": [],
      "source": [
        "import pandas as pd\n",
        "import matplotlib.pyplot as plt\n",
        "\n",
        "train_news_file\n",
        "train_behaviors_file\n",
        "\n",
        "data_news = pd.read_csv(train_news_file,delimiter=\"\\t\",names = ['News ID',\n",
        "\"Category\",\n",
        "\"SubCategory\",\n",
        "\"Title\",\n",
        "\"Abstract\",\n",
        "\"URL\",\n",
        "\"Title Entities\",\n",
        "\"Abstract Entities \"])\n",
        "\n",
        "data_behaviors = pd.read_csv(train_behaviors_file,delimiter=\"\\t\",names=['Impression ID', 'User ID', 'Time', 'History' , 'Impressions'])\n",
        "\n",
        "\n",
        "# data_behaviors.columns = ['Impression ID', 'User ID', 'Time', 'History' , 'Impressions']"
      ]
    },
    {
      "cell_type": "code",
      "execution_count": 7,
      "metadata": {},
      "outputs": [],
      "source": [
        "data_behaviors_val = pd.read_csv(valid_behaviors_file,delimiter=\"\\t\",names=['Impression ID', 'User ID', 'Time', 'History' , 'Impressions'])\n",
        "data_news_val = pd.read_csv(valid_news_file,delimiter=\"\\t\",names = ['News ID',\n",
        "\"Category\",\n",
        "\"SubCategory\",\n",
        "\"Title\",\n",
        "\"Abstract\",\n",
        "\"URL\",\n",
        "\"Title Entities\",\n",
        "\"Abstract Entities \"])"
      ]
    },
    {
      "cell_type": "code",
      "execution_count": 11,
      "metadata": {},
      "outputs": [
        {
          "data": {
            "text/html": [
              "<div>\n",
              "<style scoped>\n",
              "    .dataframe tbody tr th:only-of-type {\n",
              "        vertical-align: middle;\n",
              "    }\n",
              "\n",
              "    .dataframe tbody tr th {\n",
              "        vertical-align: top;\n",
              "    }\n",
              "\n",
              "    .dataframe thead th {\n",
              "        text-align: right;\n",
              "    }\n",
              "</style>\n",
              "<table border=\"1\" class=\"dataframe\">\n",
              "  <thead>\n",
              "    <tr style=\"text-align: right;\">\n",
              "      <th></th>\n",
              "      <th>Impression ID</th>\n",
              "      <th>User ID</th>\n",
              "      <th>Time</th>\n",
              "      <th>History</th>\n",
              "      <th>Impressions</th>\n",
              "    </tr>\n",
              "  </thead>\n",
              "  <tbody>\n",
              "    <tr>\n",
              "      <th>0</th>\n",
              "      <td>1</td>\n",
              "      <td>U41827</td>\n",
              "      <td>11/15/2019 2:41:03 PM</td>\n",
              "      <td>N15366 N12202 N27489 N19773 N21134 N18191 N686...</td>\n",
              "      <td>N23699-0 N21291-0 N1901-0 N27292-0 N17443-0 N1...</td>\n",
              "    </tr>\n",
              "    <tr>\n",
              "      <th>1</th>\n",
              "      <td>2</td>\n",
              "      <td>U61881</td>\n",
              "      <td>11/15/2019 10:31:42 AM</td>\n",
              "      <td>N16469 N4202 N4202 N21816 N12992 N24242 N7366 ...</td>\n",
              "      <td>N26916-0 N4641-0 N25522-0 N14893-0 N19035-0 N3...</td>\n",
              "    </tr>\n",
              "    <tr>\n",
              "      <th>2</th>\n",
              "      <td>3</td>\n",
              "      <td>U54180</td>\n",
              "      <td>11/15/2019 5:36:17 AM</td>\n",
              "      <td>N22427 N16386 N24242 N4385 N14672 N12242 N1852...</td>\n",
              "      <td>N13528-0 N27689-0 N10879-0 N11662-0 N14409-0 N...</td>\n",
              "    </tr>\n",
              "    <tr>\n",
              "      <th>3</th>\n",
              "      <td>4</td>\n",
              "      <td>U41164</td>\n",
              "      <td>11/15/2019 9:13:44 AM</td>\n",
              "      <td>N13065 N5748 N12658 N276 N7395 N16010 N13761 N...</td>\n",
              "      <td>N20150-0 N1807-1 N26916-0 N28138-0 N9576-0 N19...</td>\n",
              "    </tr>\n",
              "    <tr>\n",
              "      <th>4</th>\n",
              "      <td>5</td>\n",
              "      <td>U8588</td>\n",
              "      <td>11/15/2019 5:39:04 AM</td>\n",
              "      <td>N6629 N4958 N10917 N27079 N828</td>\n",
              "      <td>N21325-0 N5982-0 N19737-1 N9576-0 N20150-0 N25...</td>\n",
              "    </tr>\n",
              "  </tbody>\n",
              "</table>\n",
              "</div>"
            ],
            "text/plain": [
              "   Impression ID User ID                    Time  \\\n",
              "0              1  U41827   11/15/2019 2:41:03 PM   \n",
              "1              2  U61881  11/15/2019 10:31:42 AM   \n",
              "2              3  U54180   11/15/2019 5:36:17 AM   \n",
              "3              4  U41164   11/15/2019 9:13:44 AM   \n",
              "4              5   U8588   11/15/2019 5:39:04 AM   \n",
              "\n",
              "                                             History  \\\n",
              "0  N15366 N12202 N27489 N19773 N21134 N18191 N686...   \n",
              "1  N16469 N4202 N4202 N21816 N12992 N24242 N7366 ...   \n",
              "2  N22427 N16386 N24242 N4385 N14672 N12242 N1852...   \n",
              "3  N13065 N5748 N12658 N276 N7395 N16010 N13761 N...   \n",
              "4                     N6629 N4958 N10917 N27079 N828   \n",
              "\n",
              "                                         Impressions  \n",
              "0  N23699-0 N21291-0 N1901-0 N27292-0 N17443-0 N1...  \n",
              "1  N26916-0 N4641-0 N25522-0 N14893-0 N19035-0 N3...  \n",
              "2  N13528-0 N27689-0 N10879-0 N11662-0 N14409-0 N...  \n",
              "3  N20150-0 N1807-1 N26916-0 N28138-0 N9576-0 N19...  \n",
              "4  N21325-0 N5982-0 N19737-1 N9576-0 N20150-0 N25...  "
            ]
          },
          "execution_count": 11,
          "metadata": {},
          "output_type": "execute_result"
        }
      ],
      "source": [
        "data_behaviors_val.head()"
      ]
    },
    {
      "cell_type": "code",
      "execution_count": 108,
      "metadata": {},
      "outputs": [
        {
          "data": {
            "text/html": [
              "<div>\n",
              "<style scoped>\n",
              "    .dataframe tbody tr th:only-of-type {\n",
              "        vertical-align: middle;\n",
              "    }\n",
              "\n",
              "    .dataframe tbody tr th {\n",
              "        vertical-align: top;\n",
              "    }\n",
              "\n",
              "    .dataframe thead th {\n",
              "        text-align: right;\n",
              "    }\n",
              "</style>\n",
              "<table border=\"1\" class=\"dataframe\">\n",
              "  <thead>\n",
              "    <tr style=\"text-align: right;\">\n",
              "      <th></th>\n",
              "      <th>News ID</th>\n",
              "      <th>Category</th>\n",
              "      <th>SubCategory</th>\n",
              "      <th>Title</th>\n",
              "      <th>Abstract</th>\n",
              "      <th>URL</th>\n",
              "      <th>Title Entities</th>\n",
              "      <th>Abstract Entities</th>\n",
              "    </tr>\n",
              "  </thead>\n",
              "  <tbody>\n",
              "    <tr>\n",
              "      <th>15227</th>\n",
              "      <td>N23699</td>\n",
              "      <td>news</td>\n",
              "      <td>newsus</td>\n",
              "      <td>3 Indiana judges suspended after a night of dr...</td>\n",
              "      <td>Hours before they were to attend an educationa...</td>\n",
              "      <td>https://www.msn.com/en-us/news/newsus/3-indian...</td>\n",
              "      <td>[{\"Label\": \"White Castle (restaurant)\", \"Type\"...</td>\n",
              "      <td>[{\"Label\": \"Indianapolis\", \"Type\": \"G\", \"Wikid...</td>\n",
              "    </tr>\n",
              "  </tbody>\n",
              "</table>\n",
              "</div>"
            ],
            "text/plain": [
              "      News ID Category SubCategory  \\\n",
              "15227  N23699     news      newsus   \n",
              "\n",
              "                                                   Title  \\\n",
              "15227  3 Indiana judges suspended after a night of dr...   \n",
              "\n",
              "                                                Abstract  \\\n",
              "15227  Hours before they were to attend an educationa...   \n",
              "\n",
              "                                                     URL  \\\n",
              "15227  https://www.msn.com/en-us/news/newsus/3-indian...   \n",
              "\n",
              "                                          Title Entities  \\\n",
              "15227  [{\"Label\": \"White Castle (restaurant)\", \"Type\"...   \n",
              "\n",
              "                                      Abstract Entities   \n",
              "15227  [{\"Label\": \"Indianapolis\", \"Type\": \"G\", \"Wikid...  "
            ]
          },
          "execution_count": 108,
          "metadata": {},
          "output_type": "execute_result"
        }
      ],
      "source": [
        "data_news_val.loc[data_news_val[\"News ID\"] == \"N23699\"]"
      ]
    },
    {
      "cell_type": "code",
      "execution_count": 62,
      "metadata": {},
      "outputs": [
        {
          "data": {
            "text/html": [
              "<div>\n",
              "<style scoped>\n",
              "    .dataframe tbody tr th:only-of-type {\n",
              "        vertical-align: middle;\n",
              "    }\n",
              "\n",
              "    .dataframe tbody tr th {\n",
              "        vertical-align: top;\n",
              "    }\n",
              "\n",
              "    .dataframe thead th {\n",
              "        text-align: right;\n",
              "    }\n",
              "</style>\n",
              "<table border=\"1\" class=\"dataframe\">\n",
              "  <thead>\n",
              "    <tr style=\"text-align: right;\">\n",
              "      <th></th>\n",
              "      <th>Impression ID</th>\n",
              "      <th>User ID</th>\n",
              "      <th>Time</th>\n",
              "      <th>History</th>\n",
              "      <th>Impressions</th>\n",
              "    </tr>\n",
              "  </thead>\n",
              "  <tbody>\n",
              "    <tr>\n",
              "      <th>0</th>\n",
              "      <td>1</td>\n",
              "      <td>U82271</td>\n",
              "      <td>11/11/2019 3:28:58 PM</td>\n",
              "      <td>N3130 N11621 N12917 N4574 N12140 N9748</td>\n",
              "      <td>N13390-0 N7180-0 N20785-0 N6937-0 N15776-0 N25...</td>\n",
              "    </tr>\n",
              "    <tr>\n",
              "      <th>1</th>\n",
              "      <td>2</td>\n",
              "      <td>U84185</td>\n",
              "      <td>11/12/2019 10:36:47 AM</td>\n",
              "      <td>N27209 N11723 N4617 N12320 N11333 N24461 N2211...</td>\n",
              "      <td>N13089-0 N18101-0 N1248-0 N26273-0 N12770-1 N1...</td>\n",
              "    </tr>\n",
              "    <tr>\n",
              "      <th>2</th>\n",
              "      <td>3</td>\n",
              "      <td>U11552</td>\n",
              "      <td>11/11/2019 1:03:52 PM</td>\n",
              "      <td>N2139</td>\n",
              "      <td>N18390-0 N10537-0 N23967-1</td>\n",
              "    </tr>\n",
              "    <tr>\n",
              "      <th>3</th>\n",
              "      <td>4</td>\n",
              "      <td>U68381</td>\n",
              "      <td>11/11/2019 6:44:05 AM</td>\n",
              "      <td>N27420 N11621 N25416 N25457 N5124 N11751 N1175...</td>\n",
              "      <td>N15660-0 N18609-0 N2831-0 N5677-0 N19010-0 N15...</td>\n",
              "    </tr>\n",
              "    <tr>\n",
              "      <th>4</th>\n",
              "      <td>5</td>\n",
              "      <td>U52303</td>\n",
              "      <td>11/12/2019 3:11:52 AM</td>\n",
              "      <td>N1332 N12667</td>\n",
              "      <td>N15645-0 N7911-1</td>\n",
              "    </tr>\n",
              "  </tbody>\n",
              "</table>\n",
              "</div>"
            ],
            "text/plain": [
              "   Impression ID User ID                    Time  \\\n",
              "0              1  U82271   11/11/2019 3:28:58 PM   \n",
              "1              2  U84185  11/12/2019 10:36:47 AM   \n",
              "2              3  U11552   11/11/2019 1:03:52 PM   \n",
              "3              4  U68381   11/11/2019 6:44:05 AM   \n",
              "4              5  U52303   11/12/2019 3:11:52 AM   \n",
              "\n",
              "                                             History  \\\n",
              "0             N3130 N11621 N12917 N4574 N12140 N9748   \n",
              "1  N27209 N11723 N4617 N12320 N11333 N24461 N2211...   \n",
              "2                                              N2139   \n",
              "3  N27420 N11621 N25416 N25457 N5124 N11751 N1175...   \n",
              "4                                       N1332 N12667   \n",
              "\n",
              "                                         Impressions  \n",
              "0  N13390-0 N7180-0 N20785-0 N6937-0 N15776-0 N25...  \n",
              "1  N13089-0 N18101-0 N1248-0 N26273-0 N12770-1 N1...  \n",
              "2                         N18390-0 N10537-0 N23967-1  \n",
              "3  N15660-0 N18609-0 N2831-0 N5677-0 N19010-0 N15...  \n",
              "4                                   N15645-0 N7911-1  "
            ]
          },
          "execution_count": 62,
          "metadata": {},
          "output_type": "execute_result"
        }
      ],
      "source": [
        "data_behaviors.head()"
      ]
    },
    {
      "cell_type": "code",
      "execution_count": 4,
      "metadata": {},
      "outputs": [
        {
          "name": "stderr",
          "output_type": "stream",
          "text": [
            "/home/langenhagen/miniconda3/envs/tf_newsrec/lib/python3.9/site-packages/seaborn/_decorators.py:36: FutureWarning: Pass the following variable as a keyword arg: x. From version 0.12, the only valid positional argument will be `data`, and passing other arguments without an explicit keyword will result in an error or misinterpretation.\n",
            "  warnings.warn(\n",
            "/home/langenhagen/miniconda3/envs/tf_newsrec/lib/python3.9/site-packages/recmetrics/plots.py:60: FutureWarning: The frame.append method is deprecated and will be removed from pandas in a future version. Use pandas.concat instead.\n",
            "  head = head.append(tail.head(1))\n"
          ]
        },
        {
          "data": {
            "image/png": "[encoded data removed]",
            "text/plain": [
              "<Figure size 432x288 with 1 Axes>"
            ]
          },
          "metadata": {
            "needs_background": "light"
          },
          "output_type": "display_data"
        }
      ],
      "source": [
        "import recmetrics\n",
        "recmetrics.long_tail_plot(\n",
        "    df=data_behaviors,\n",
        "    item_id_column='User ID',\n",
        "    interaction_type = \"History\",\n",
        "    percentage = 0.3,\n",
        "    x_labels = False\n",
        ")"
      ]
    }
  ],
  "metadata": {
    "accelerator": "GPU",
    "colab": {
      "collapsed_sections": [],
      "name": "recommenders.ipynb",
      "provenance": []
    },
    "kernelspec": {
      "display_name": "investigate_newsrec_bias",
      "language": "python",
      "name": "python3"
    },
    "language_info": {
      "codemirror_mode": {
        "name": "ipython",
        "version": 3
      },
      "file_extension": ".py",
      "mimetype": "text/x-python",
      "name": "python",
      "nbconvert_exporter": "python",
      "pygments_lexer": "ipython3",
      "version": "3.9.12 (main, Jun  1 2022, 11:38:51) \n[GCC 7.5.0]"
    },
    "orig_nbformat": 4,
    "vscode": {
      "interpreter": {
        "hash": "2bd7e1ba3c568c7573905890cf56b3d9ed6499579064a7fa3ac296f14d51d6cc"
      }
    },
    "widgets": {
      "application/vnd.jupyter.widget-state+json": {
        "0200bd007bc34e73ad864fd674f05d94": {
          "model_module": "@jupyter-widgets/controls",
          "model_module_version": "1.5.0",
          "model_name": "VBoxModel",
          "state": {
            "_dom_classes": [],
            "_model_module": "@jupyter-widgets/controls",
            "_model_module_version": "1.5.0",
            "_model_name": "VBoxModel",
            "_view_count": null,
            "_view_module": "@jupyter-widgets/controls",
            "_view_module_version": "1.5.0",
            "_view_name": "VBoxView",
            "box_style": "",
            "children": [
              "IPY_MODEL_518cdae1095847509dbe7a096b40f9f5",
              "IPY_MODEL_633a637617704e67b7283e50c2d514f1"
            ],
            "layout": "IPY_MODEL_05f2b5d1c2cf4ef9b5195a7baafe85c6"
          }
        },
        "05f2b5d1c2cf4ef9b5195a7baafe85c6": {
          "model_module": "@jupyter-widgets/base",
          "model_module_version": "1.2.0",
          "model_name": "LayoutModel",
          "state": {
            "_model_module": "@jupyter-widgets/base",
            "_model_module_version": "1.2.0",
            "_model_name": "LayoutModel",
            "_view_count": null,
            "_view_module": "@jupyter-widgets/base",
            "_view_module_version": "1.2.0",
            "_view_name": "LayoutView",
            "align_content": null,
            "align_items": null,
            "align_self": null,
            "border": null,
            "bottom": null,
            "display": null,
            "flex": null,
            "flex_flow": null,
            "grid_area": null,
            "grid_auto_columns": null,
            "grid_auto_flow": null,
            "grid_auto_rows": null,
            "grid_column": null,
            "grid_gap": null,
            "grid_row": null,
            "grid_template_areas": null,
            "grid_template_columns": null,
            "grid_template_rows": null,
            "height": null,
            "justify_content": null,
            "justify_items": null,
            "left": null,
            "margin": null,
            "max_height": null,
            "max_width": null,
            "min_height": null,
            "min_width": null,
            "object_fit": null,
            "object_position": null,
            "order": null,
            "overflow": null,
            "overflow_x": null,
            "overflow_y": null,
            "padding": null,
            "right": null,
            "top": null,
            "visibility": null,
            "width": null
          }
        },
        "080a80fc706748d6bb7ec1ab3e807aae": {
          "model_module": "@jupyter-widgets/controls",
          "model_module_version": "1.5.0",
          "model_name": "DescriptionStyleModel",
          "state": {
            "_model_module": "@jupyter-widgets/controls",
            "_model_module_version": "1.5.0",
            "_model_name": "DescriptionStyleModel",
            "_view_count": null,
            "_view_module": "@jupyter-widgets/base",
            "_view_module_version": "1.2.0",
            "_view_name": "StyleView",
            "description_width": ""
          }
        },
        "0f37c786677b4ed998ee18a1a1d25f8a": {
          "model_module": "@jupyter-widgets/controls",
          "model_module_version": "1.5.0",
          "model_name": "DescriptionStyleModel",
          "state": {
            "_model_module": "@jupyter-widgets/controls",
            "_model_module_version": "1.5.0",
            "_model_name": "DescriptionStyleModel",
            "_view_count": null,
            "_view_module": "@jupyter-widgets/base",
            "_view_module_version": "1.2.0",
            "_view_name": "StyleView",
            "description_width": ""
          }
        },
        "110bbc2233804e25b1fd08a901d8ff82": {
          "model_module": "@jupyter-widgets/controls",
          "model_module_version": "1.5.0",
          "model_name": "LabelModel",
          "state": {
            "_dom_classes": [],
            "_model_module": "@jupyter-widgets/controls",
            "_model_module_version": "1.5.0",
            "_model_name": "LabelModel",
            "_view_count": null,
            "_view_module": "@jupyter-widgets/controls",
            "_view_module_version": "1.5.0",
            "_view_name": "LabelView",
            "description": "",
            "description_tooltip": null,
            "layout": "IPY_MODEL_4a4e6bbf77c547d19b8e9c9d0df0d3ca",
            "placeholder": "​",
            "style": "IPY_MODEL_b227fbb7dc9546d5bc3eb7cd1be8de92",
            "value": "0.011 MB of 0.011 MB uploaded (0.000 MB deduped)\r"
          }
        },
        "1efe27b2340a495db36a4a39013dc885": {
          "model_module": "@jupyter-widgets/base",
          "model_module_version": "1.2.0",
          "model_name": "LayoutModel",
          "state": {
            "_model_module": "@jupyter-widgets/base",
            "_model_module_version": "1.2.0",
            "_model_name": "LayoutModel",
            "_view_count": null,
            "_view_module": "@jupyter-widgets/base",
            "_view_module_version": "1.2.0",
            "_view_name": "LayoutView",
            "align_content": null,
            "align_items": null,
            "align_self": null,
            "border": null,
            "bottom": null,
            "display": null,
            "flex": null,
            "flex_flow": null,
            "grid_area": null,
            "grid_auto_columns": null,
            "grid_auto_flow": null,
            "grid_auto_rows": null,
            "grid_column": null,
            "grid_gap": null,
            "grid_row": null,
            "grid_template_areas": null,
            "grid_template_columns": null,
            "grid_template_rows": null,
            "height": null,
            "justify_content": null,
            "justify_items": null,
            "left": null,
            "margin": null,
            "max_height": null,
            "max_width": null,
            "min_height": null,
            "min_width": null,
            "object_fit": null,
            "object_position": null,
            "order": null,
            "overflow": null,
            "overflow_x": null,
            "overflow_y": null,
            "padding": null,
            "right": null,
            "top": null,
            "visibility": null,
            "width": null
          }
        },
        "275aaad93a6d40deb92d3070cc14c002": {
          "model_module": "@jupyter-widgets/controls",
          "model_module_version": "1.5.0",
          "model_name": "LabelModel",
          "state": {
            "_dom_classes": [],
            "_model_module": "@jupyter-widgets/controls",
            "_model_module_version": "1.5.0",
            "_model_name": "LabelModel",
            "_view_count": null,
            "_view_module": "@jupyter-widgets/controls",
            "_view_module_version": "1.5.0",
            "_view_name": "LabelView",
            "description": "",
            "description_tooltip": null,
            "layout": "IPY_MODEL_33b29968fed6400180bf3d184d339f4d",
            "placeholder": "​",
            "style": "IPY_MODEL_0f37c786677b4ed998ee18a1a1d25f8a",
            "value": "0.009 MB of 0.009 MB uploaded (0.000 MB deduped)\r"
          }
        },
        "2a6cfd1ce2514318a424d2d1351b9067": {
          "model_module": "@jupyter-widgets/base",
          "model_module_version": "1.2.0",
          "model_name": "LayoutModel",
          "state": {
            "_model_module": "@jupyter-widgets/base",
            "_model_module_version": "1.2.0",
            "_model_name": "LayoutModel",
            "_view_count": null,
            "_view_module": "@jupyter-widgets/base",
            "_view_module_version": "1.2.0",
            "_view_name": "LayoutView",
            "align_content": null,
            "align_items": null,
            "align_self": null,
            "border": null,
            "bottom": null,
            "display": null,
            "flex": null,
            "flex_flow": null,
            "grid_area": null,
            "grid_auto_columns": null,
            "grid_auto_flow": null,
            "grid_auto_rows": null,
            "grid_column": null,
            "grid_gap": null,
            "grid_row": null,
            "grid_template_areas": null,
            "grid_template_columns": null,
            "grid_template_rows": null,
            "height": null,
            "justify_content": null,
            "justify_items": null,
            "left": null,
            "margin": null,
            "max_height": null,
            "max_width": null,
            "min_height": null,
            "min_width": null,
            "object_fit": null,
            "object_position": null,
            "order": null,
            "overflow": null,
            "overflow_x": null,
            "overflow_y": null,
            "padding": null,
            "right": null,
            "top": null,
            "visibility": null,
            "width": null
          }
        },
        "33b29968fed6400180bf3d184d339f4d": {
          "model_module": "@jupyter-widgets/base",
          "model_module_version": "1.2.0",
          "model_name": "LayoutModel",
          "state": {
            "_model_module": "@jupyter-widgets/base",
            "_model_module_version": "1.2.0",
            "_model_name": "LayoutModel",
            "_view_count": null,
            "_view_module": "@jupyter-widgets/base",
            "_view_module_version": "1.2.0",
            "_view_name": "LayoutView",
            "align_content": null,
            "align_items": null,
            "align_self": null,
            "border": null,
            "bottom": null,
            "display": null,
            "flex": null,
            "flex_flow": null,
            "grid_area": null,
            "grid_auto_columns": null,
            "grid_auto_flow": null,
            "grid_auto_rows": null,
            "grid_column": null,
            "grid_gap": null,
            "grid_row": null,
            "grid_template_areas": null,
            "grid_template_columns": null,
            "grid_template_rows": null,
            "height": null,
            "justify_content": null,
            "justify_items": null,
            "left": null,
            "margin": null,
            "max_height": null,
            "max_width": null,
            "min_height": null,
            "min_width": null,
            "object_fit": null,
            "object_position": null,
            "order": null,
            "overflow": null,
            "overflow_x": null,
            "overflow_y": null,
            "padding": null,
            "right": null,
            "top": null,
            "visibility": null,
            "width": null
          }
        },
        "3a79553a555a478ca75b60abd5065519": {
          "model_module": "@jupyter-widgets/base",
          "model_module_version": "1.2.0",
          "model_name": "LayoutModel",
          "state": {
            "_model_module": "@jupyter-widgets/base",
            "_model_module_version": "1.2.0",
            "_model_name": "LayoutModel",
            "_view_count": null,
            "_view_module": "@jupyter-widgets/base",
            "_view_module_version": "1.2.0",
            "_view_name": "LayoutView",
            "align_content": null,
            "align_items": null,
            "align_self": null,
            "border": null,
            "bottom": null,
            "display": null,
            "flex": null,
            "flex_flow": null,
            "grid_area": null,
            "grid_auto_columns": null,
            "grid_auto_flow": null,
            "grid_auto_rows": null,
            "grid_column": null,
            "grid_gap": null,
            "grid_row": null,
            "grid_template_areas": null,
            "grid_template_columns": null,
            "grid_template_rows": null,
            "height": null,
            "justify_content": null,
            "justify_items": null,
            "left": null,
            "margin": null,
            "max_height": null,
            "max_width": null,
            "min_height": null,
            "min_width": null,
            "object_fit": null,
            "object_position": null,
            "order": null,
            "overflow": null,
            "overflow_x": null,
            "overflow_y": null,
            "padding": null,
            "right": null,
            "top": null,
            "visibility": null,
            "width": null
          }
        },
        "3ad7d4449af340dfacdc64ad42bc7909": {
          "model_module": "@jupyter-widgets/controls",
          "model_module_version": "1.5.0",
          "model_name": "DescriptionStyleModel",
          "state": {
            "_model_module": "@jupyter-widgets/controls",
            "_model_module_version": "1.5.0",
            "_model_name": "DescriptionStyleModel",
            "_view_count": null,
            "_view_module": "@jupyter-widgets/base",
            "_view_module_version": "1.2.0",
            "_view_name": "StyleView",
            "description_width": ""
          }
        },
        "43c374ad70334be8aac99f78fadfa34b": {
          "model_module": "@jupyter-widgets/controls",
          "model_module_version": "1.5.0",
          "model_name": "LabelModel",
          "state": {
            "_dom_classes": [],
            "_model_module": "@jupyter-widgets/controls",
            "_model_module_version": "1.5.0",
            "_model_name": "LabelModel",
            "_view_count": null,
            "_view_module": "@jupyter-widgets/controls",
            "_view_module_version": "1.5.0",
            "_view_name": "LabelView",
            "description": "",
            "description_tooltip": null,
            "layout": "IPY_MODEL_3a79553a555a478ca75b60abd5065519",
            "placeholder": "​",
            "style": "IPY_MODEL_3ad7d4449af340dfacdc64ad42bc7909",
            "value": "0.011 MB of 0.011 MB uploaded (0.000 MB deduped)\r"
          }
        },
        "452fcdb9b70f426aa6925dc72192e76f": {
          "model_module": "@jupyter-widgets/controls",
          "model_module_version": "1.5.0",
          "model_name": "FloatProgressModel",
          "state": {
            "_dom_classes": [],
            "_model_module": "@jupyter-widgets/controls",
            "_model_module_version": "1.5.0",
            "_model_name": "FloatProgressModel",
            "_view_count": null,
            "_view_module": "@jupyter-widgets/controls",
            "_view_module_version": "1.5.0",
            "_view_name": "ProgressView",
            "bar_style": "",
            "description": "",
            "description_tooltip": null,
            "layout": "IPY_MODEL_f05848e35ce84bb5aa77ff50cc2ba0c2",
            "max": 1,
            "min": 0,
            "orientation": "horizontal",
            "style": "IPY_MODEL_4a8add20e73f4ea19e9e74dfb785c6c9",
            "value": 1
          }
        },
        "4a0c3e0716504251be4f67c103cfb53e": {
          "model_module": "@jupyter-widgets/base",
          "model_module_version": "1.2.0",
          "model_name": "LayoutModel",
          "state": {
            "_model_module": "@jupyter-widgets/base",
            "_model_module_version": "1.2.0",
            "_model_name": "LayoutModel",
            "_view_count": null,
            "_view_module": "@jupyter-widgets/base",
            "_view_module_version": "1.2.0",
            "_view_name": "LayoutView",
            "align_content": null,
            "align_items": null,
            "align_self": null,
            "border": null,
            "bottom": null,
            "display": null,
            "flex": null,
            "flex_flow": null,
            "grid_area": null,
            "grid_auto_columns": null,
            "grid_auto_flow": null,
            "grid_auto_rows": null,
            "grid_column": null,
            "grid_gap": null,
            "grid_row": null,
            "grid_template_areas": null,
            "grid_template_columns": null,
            "grid_template_rows": null,
            "height": null,
            "justify_content": null,
            "justify_items": null,
            "left": null,
            "margin": null,
            "max_height": null,
            "max_width": null,
            "min_height": null,
            "min_width": null,
            "object_fit": null,
            "object_position": null,
            "order": null,
            "overflow": null,
            "overflow_x": null,
            "overflow_y": null,
            "padding": null,
            "right": null,
            "top": null,
            "visibility": null,
            "width": null
          }
        },
        "4a17e6d6e04246a6a72cc7415e9f46ee": {
          "model_module": "@jupyter-widgets/controls",
          "model_module_version": "1.5.0",
          "model_name": "ProgressStyleModel",
          "state": {
            "_model_module": "@jupyter-widgets/controls",
            "_model_module_version": "1.5.0",
            "_model_name": "ProgressStyleModel",
            "_view_count": null,
            "_view_module": "@jupyter-widgets/base",
            "_view_module_version": "1.2.0",
            "_view_name": "StyleView",
            "bar_color": null,
            "description_width": ""
          }
        },
        "4a4e6bbf77c547d19b8e9c9d0df0d3ca": {
          "model_module": "@jupyter-widgets/base",
          "model_module_version": "1.2.0",
          "model_name": "LayoutModel",
          "state": {
            "_model_module": "@jupyter-widgets/base",
            "_model_module_version": "1.2.0",
            "_model_name": "LayoutModel",
            "_view_count": null,
            "_view_module": "@jupyter-widgets/base",
            "_view_module_version": "1.2.0",
            "_view_name": "LayoutView",
            "align_content": null,
            "align_items": null,
            "align_self": null,
            "border": null,
            "bottom": null,
            "display": null,
            "flex": null,
            "flex_flow": null,
            "grid_area": null,
            "grid_auto_columns": null,
            "grid_auto_flow": null,
            "grid_auto_rows": null,
            "grid_column": null,
            "grid_gap": null,
            "grid_row": null,
            "grid_template_areas": null,
            "grid_template_columns": null,
            "grid_template_rows": null,
            "height": null,
            "justify_content": null,
            "justify_items": null,
            "left": null,
            "margin": null,
            "max_height": null,
            "max_width": null,
            "min_height": null,
            "min_width": null,
            "object_fit": null,
            "object_position": null,
            "order": null,
            "overflow": null,
            "overflow_x": null,
            "overflow_y": null,
            "padding": null,
            "right": null,
            "top": null,
            "visibility": null,
            "width": null
          }
        },
        "4a8add20e73f4ea19e9e74dfb785c6c9": {
          "model_module": "@jupyter-widgets/controls",
          "model_module_version": "1.5.0",
          "model_name": "ProgressStyleModel",
          "state": {
            "_model_module": "@jupyter-widgets/controls",
            "_model_module_version": "1.5.0",
            "_model_name": "ProgressStyleModel",
            "_view_count": null,
            "_view_module": "@jupyter-widgets/base",
            "_view_module_version": "1.2.0",
            "_view_name": "StyleView",
            "bar_color": null,
            "description_width": ""
          }
        },
        "518cdae1095847509dbe7a096b40f9f5": {
          "model_module": "@jupyter-widgets/controls",
          "model_module_version": "1.5.0",
          "model_name": "LabelModel",
          "state": {
            "_dom_classes": [],
            "_model_module": "@jupyter-widgets/controls",
            "_model_module_version": "1.5.0",
            "_model_name": "LabelModel",
            "_view_count": null,
            "_view_module": "@jupyter-widgets/controls",
            "_view_module_version": "1.5.0",
            "_view_name": "LabelView",
            "description": "",
            "description_tooltip": null,
            "layout": "IPY_MODEL_4a0c3e0716504251be4f67c103cfb53e",
            "placeholder": "​",
            "style": "IPY_MODEL_080a80fc706748d6bb7ec1ab3e807aae",
            "value": "0.010 MB of 0.010 MB uploaded (0.000 MB deduped)\r"
          }
        },
        "61297c024d7c43619121eb6ff56b0a42": {
          "model_module": "@jupyter-widgets/base",
          "model_module_version": "1.2.0",
          "model_name": "LayoutModel",
          "state": {
            "_model_module": "@jupyter-widgets/base",
            "_model_module_version": "1.2.0",
            "_model_name": "LayoutModel",
            "_view_count": null,
            "_view_module": "@jupyter-widgets/base",
            "_view_module_version": "1.2.0",
            "_view_name": "LayoutView",
            "align_content": null,
            "align_items": null,
            "align_self": null,
            "border": null,
            "bottom": null,
            "display": null,
            "flex": null,
            "flex_flow": null,
            "grid_area": null,
            "grid_auto_columns": null,
            "grid_auto_flow": null,
            "grid_auto_rows": null,
            "grid_column": null,
            "grid_gap": null,
            "grid_row": null,
            "grid_template_areas": null,
            "grid_template_columns": null,
            "grid_template_rows": null,
            "height": null,
            "justify_content": null,
            "justify_items": null,
            "left": null,
            "margin": null,
            "max_height": null,
            "max_width": null,
            "min_height": null,
            "min_width": null,
            "object_fit": null,
            "object_position": null,
            "order": null,
            "overflow": null,
            "overflow_x": null,
            "overflow_y": null,
            "padding": null,
            "right": null,
            "top": null,
            "visibility": null,
            "width": null
          }
        },
        "633a637617704e67b7283e50c2d514f1": {
          "model_module": "@jupyter-widgets/controls",
          "model_module_version": "1.5.0",
          "model_name": "FloatProgressModel",
          "state": {
            "_dom_classes": [],
            "_model_module": "@jupyter-widgets/controls",
            "_model_module_version": "1.5.0",
            "_model_name": "FloatProgressModel",
            "_view_count": null,
            "_view_module": "@jupyter-widgets/controls",
            "_view_module_version": "1.5.0",
            "_view_name": "ProgressView",
            "bar_style": "",
            "description": "",
            "description_tooltip": null,
            "layout": "IPY_MODEL_2a6cfd1ce2514318a424d2d1351b9067",
            "max": 1,
            "min": 0,
            "orientation": "horizontal",
            "style": "IPY_MODEL_fe7b3522f67d4202acbc47618ca8635e",
            "value": 1
          }
        },
        "73cf4180ba1441eeac6aee7ad4dea112": {
          "model_module": "@jupyter-widgets/base",
          "model_module_version": "1.2.0",
          "model_name": "LayoutModel",
          "state": {
            "_model_module": "@jupyter-widgets/base",
            "_model_module_version": "1.2.0",
            "_model_name": "LayoutModel",
            "_view_count": null,
            "_view_module": "@jupyter-widgets/base",
            "_view_module_version": "1.2.0",
            "_view_name": "LayoutView",
            "align_content": null,
            "align_items": null,
            "align_self": null,
            "border": null,
            "bottom": null,
            "display": null,
            "flex": null,
            "flex_flow": null,
            "grid_area": null,
            "grid_auto_columns": null,
            "grid_auto_flow": null,
            "grid_auto_rows": null,
            "grid_column": null,
            "grid_gap": null,
            "grid_row": null,
            "grid_template_areas": null,
            "grid_template_columns": null,
            "grid_template_rows": null,
            "height": null,
            "justify_content": null,
            "justify_items": null,
            "left": null,
            "margin": null,
            "max_height": null,
            "max_width": null,
            "min_height": null,
            "min_width": null,
            "object_fit": null,
            "object_position": null,
            "order": null,
            "overflow": null,
            "overflow_x": null,
            "overflow_y": null,
            "padding": null,
            "right": null,
            "top": null,
            "visibility": null,
            "width": null
          }
        },
        "761c80586dc647be9c5d104cdd6c2c27": {
          "model_module": "@jupyter-widgets/controls",
          "model_module_version": "1.5.0",
          "model_name": "VBoxModel",
          "state": {
            "_dom_classes": [],
            "_model_module": "@jupyter-widgets/controls",
            "_model_module_version": "1.5.0",
            "_model_name": "VBoxModel",
            "_view_count": null,
            "_view_module": "@jupyter-widgets/controls",
            "_view_module_version": "1.5.0",
            "_view_name": "VBoxView",
            "box_style": "",
            "children": [
              "IPY_MODEL_43c374ad70334be8aac99f78fadfa34b",
              "IPY_MODEL_d974f3d3c9d546aaaabf4e5860929c70"
            ],
            "layout": "IPY_MODEL_61297c024d7c43619121eb6ff56b0a42"
          }
        },
        "857ff788b86a45cf8815c5819ca8973e": {
          "model_module": "@jupyter-widgets/base",
          "model_module_version": "1.2.0",
          "model_name": "LayoutModel",
          "state": {
            "_model_module": "@jupyter-widgets/base",
            "_model_module_version": "1.2.0",
            "_model_name": "LayoutModel",
            "_view_count": null,
            "_view_module": "@jupyter-widgets/base",
            "_view_module_version": "1.2.0",
            "_view_name": "LayoutView",
            "align_content": null,
            "align_items": null,
            "align_self": null,
            "border": null,
            "bottom": null,
            "display": null,
            "flex": null,
            "flex_flow": null,
            "grid_area": null,
            "grid_auto_columns": null,
            "grid_auto_flow": null,
            "grid_auto_rows": null,
            "grid_column": null,
            "grid_gap": null,
            "grid_row": null,
            "grid_template_areas": null,
            "grid_template_columns": null,
            "grid_template_rows": null,
            "height": null,
            "justify_content": null,
            "justify_items": null,
            "left": null,
            "margin": null,
            "max_height": null,
            "max_width": null,
            "min_height": null,
            "min_width": null,
            "object_fit": null,
            "object_position": null,
            "order": null,
            "overflow": null,
            "overflow_x": null,
            "overflow_y": null,
            "padding": null,
            "right": null,
            "top": null,
            "visibility": null,
            "width": null
          }
        },
        "b227fbb7dc9546d5bc3eb7cd1be8de92": {
          "model_module": "@jupyter-widgets/controls",
          "model_module_version": "1.5.0",
          "model_name": "DescriptionStyleModel",
          "state": {
            "_model_module": "@jupyter-widgets/controls",
            "_model_module_version": "1.5.0",
            "_model_name": "DescriptionStyleModel",
            "_view_count": null,
            "_view_module": "@jupyter-widgets/base",
            "_view_module_version": "1.2.0",
            "_view_name": "StyleView",
            "description_width": ""
          }
        },
        "b7676a1488014228afb99175a4e6b76a": {
          "model_module": "@jupyter-widgets/controls",
          "model_module_version": "1.5.0",
          "model_name": "VBoxModel",
          "state": {
            "_dom_classes": [],
            "_model_module": "@jupyter-widgets/controls",
            "_model_module_version": "1.5.0",
            "_model_name": "VBoxModel",
            "_view_count": null,
            "_view_module": "@jupyter-widgets/controls",
            "_view_module_version": "1.5.0",
            "_view_name": "VBoxView",
            "box_style": "",
            "children": [
              "IPY_MODEL_275aaad93a6d40deb92d3070cc14c002",
              "IPY_MODEL_452fcdb9b70f426aa6925dc72192e76f"
            ],
            "layout": "IPY_MODEL_73cf4180ba1441eeac6aee7ad4dea112"
          }
        },
        "cbaa4d2265b04ca5bec40fbb401ee72e": {
          "model_module": "@jupyter-widgets/controls",
          "model_module_version": "1.5.0",
          "model_name": "ProgressStyleModel",
          "state": {
            "_model_module": "@jupyter-widgets/controls",
            "_model_module_version": "1.5.0",
            "_model_name": "ProgressStyleModel",
            "_view_count": null,
            "_view_module": "@jupyter-widgets/base",
            "_view_module_version": "1.2.0",
            "_view_name": "StyleView",
            "bar_color": null,
            "description_width": ""
          }
        },
        "d8b56787af704f1c87bb4f123cb68484": {
          "model_module": "@jupyter-widgets/controls",
          "model_module_version": "1.5.0",
          "model_name": "FloatProgressModel",
          "state": {
            "_dom_classes": [],
            "_model_module": "@jupyter-widgets/controls",
            "_model_module_version": "1.5.0",
            "_model_name": "FloatProgressModel",
            "_view_count": null,
            "_view_module": "@jupyter-widgets/controls",
            "_view_module_version": "1.5.0",
            "_view_name": "ProgressView",
            "bar_style": "",
            "description": "",
            "description_tooltip": null,
            "layout": "IPY_MODEL_857ff788b86a45cf8815c5819ca8973e",
            "max": 1,
            "min": 0,
            "orientation": "horizontal",
            "style": "IPY_MODEL_cbaa4d2265b04ca5bec40fbb401ee72e",
            "value": 1
          }
        },
        "d974f3d3c9d546aaaabf4e5860929c70": {
          "model_module": "@jupyter-widgets/controls",
          "model_module_version": "1.5.0",
          "model_name": "FloatProgressModel",
          "state": {
            "_dom_classes": [],
            "_model_module": "@jupyter-widgets/controls",
            "_model_module_version": "1.5.0",
            "_model_name": "FloatProgressModel",
            "_view_count": null,
            "_view_module": "@jupyter-widgets/controls",
            "_view_module_version": "1.5.0",
            "_view_name": "ProgressView",
            "bar_style": "",
            "description": "",
            "description_tooltip": null,
            "layout": "IPY_MODEL_e31709af5a5c40868a9b90408a1be262",
            "max": 1,
            "min": 0,
            "orientation": "horizontal",
            "style": "IPY_MODEL_4a17e6d6e04246a6a72cc7415e9f46ee",
            "value": 1
          }
        },
        "e31709af5a5c40868a9b90408a1be262": {
          "model_module": "@jupyter-widgets/base",
          "model_module_version": "1.2.0",
          "model_name": "LayoutModel",
          "state": {
            "_model_module": "@jupyter-widgets/base",
            "_model_module_version": "1.2.0",
            "_model_name": "LayoutModel",
            "_view_count": null,
            "_view_module": "@jupyter-widgets/base",
            "_view_module_version": "1.2.0",
            "_view_name": "LayoutView",
            "align_content": null,
            "align_items": null,
            "align_self": null,
            "border": null,
            "bottom": null,
            "display": null,
            "flex": null,
            "flex_flow": null,
            "grid_area": null,
            "grid_auto_columns": null,
            "grid_auto_flow": null,
            "grid_auto_rows": null,
            "grid_column": null,
            "grid_gap": null,
            "grid_row": null,
            "grid_template_areas": null,
            "grid_template_columns": null,
            "grid_template_rows": null,
            "height": null,
            "justify_content": null,
            "justify_items": null,
            "left": null,
            "margin": null,
            "max_height": null,
            "max_width": null,
            "min_height": null,
            "min_width": null,
            "object_fit": null,
            "object_position": null,
            "order": null,
            "overflow": null,
            "overflow_x": null,
            "overflow_y": null,
            "padding": null,
            "right": null,
            "top": null,
            "visibility": null,
            "width": null
          }
        },
        "e71f8dd3a5784d3dabef3116aeb42980": {
          "model_module": "@jupyter-widgets/controls",
          "model_module_version": "1.5.0",
          "model_name": "VBoxModel",
          "state": {
            "_dom_classes": [],
            "_model_module": "@jupyter-widgets/controls",
            "_model_module_version": "1.5.0",
            "_model_name": "VBoxModel",
            "_view_count": null,
            "_view_module": "@jupyter-widgets/controls",
            "_view_module_version": "1.5.0",
            "_view_name": "VBoxView",
            "box_style": "",
            "children": [
              "IPY_MODEL_110bbc2233804e25b1fd08a901d8ff82",
              "IPY_MODEL_d8b56787af704f1c87bb4f123cb68484"
            ],
            "layout": "IPY_MODEL_1efe27b2340a495db36a4a39013dc885"
          }
        },
        "f05848e35ce84bb5aa77ff50cc2ba0c2": {
          "model_module": "@jupyter-widgets/base",
          "model_module_version": "1.2.0",
          "model_name": "LayoutModel",
          "state": {
            "_model_module": "@jupyter-widgets/base",
            "_model_module_version": "1.2.0",
            "_model_name": "LayoutModel",
            "_view_count": null,
            "_view_module": "@jupyter-widgets/base",
            "_view_module_version": "1.2.0",
            "_view_name": "LayoutView",
            "align_content": null,
            "align_items": null,
            "align_self": null,
            "border": null,
            "bottom": null,
            "display": null,
            "flex": null,
            "flex_flow": null,
            "grid_area": null,
            "grid_auto_columns": null,
            "grid_auto_flow": null,
            "grid_auto_rows": null,
            "grid_column": null,
            "grid_gap": null,
            "grid_row": null,
            "grid_template_areas": null,
            "grid_template_columns": null,
            "grid_template_rows": null,
            "height": null,
            "justify_content": null,
            "justify_items": null,
            "left": null,
            "margin": null,
            "max_height": null,
            "max_width": null,
            "min_height": null,
            "min_width": null,
            "object_fit": null,
            "object_position": null,
            "order": null,
            "overflow": null,
            "overflow_x": null,
            "overflow_y": null,
            "padding": null,
            "right": null,
            "top": null,
            "visibility": null,
            "width": null
          }
        },
        "fe7b3522f67d4202acbc47618ca8635e": {
          "model_module": "@jupyter-widgets/controls",
          "model_module_version": "1.5.0",
          "model_name": "ProgressStyleModel",
          "state": {
            "_model_module": "@jupyter-widgets/controls",
            "_model_module_version": "1.5.0",
            "_model_name": "ProgressStyleModel",
            "_view_count": null,
            "_view_module": "@jupyter-widgets/base",
            "_view_module_version": "1.2.0",
            "_view_name": "StyleView",
            "bar_color": null,
            "description_width": ""
          }
        }
      }
    }
  },
  "nbformat": 4,
  "nbformat_minor": 0
}
