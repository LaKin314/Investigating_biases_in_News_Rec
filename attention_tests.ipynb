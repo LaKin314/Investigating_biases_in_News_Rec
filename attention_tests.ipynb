{
 "cells": [
  {
   "attachments": {},
   "cell_type": "markdown",
   "metadata": {},
   "source": [
    "# Investigate Attention on NRMS"
   ]
  },
  {
   "attachments": {},
   "cell_type": "markdown",
   "metadata": {},
   "source": [
    "In this file, we take a look at the learned attention weights of NRMS. Therefore, NRMS can be trained or loaded from Save_models/ (has to be downloaded via \"Investigating_biases_in_News_Rec/utility_scripts/download_data_models.sh\")."
   ]
  },
  {
   "attachments": {},
   "cell_type": "markdown",
   "metadata": {},
   "source": [
    "Loading necessary libraries and recommendation models/utils"
   ]
  },
  {
   "cell_type": "code",
   "execution_count": 1,
   "metadata": {},
   "outputs": [
    {
     "name": "stderr",
     "output_type": "stream",
     "text": [
      "2023-01-01 18:21:22.875294: I tensorflow/stream_executor/platform/default/dso_loader.cc:49] Successfully opened dynamic library libcudart.so.10.1\n"
     ]
    }
   ],
   "source": [
    "import os\n",
    "import sys\n",
    "\n",
    "os.environ[\"CUDA_VISIBLE_DEVICES\"]=\"-1\"\n",
    "if \"../recommenders\" not in sys.path:\n",
    "    sys.path.insert(0,\"../recommenders\")\n",
    "\n",
    "import numpy as np\n",
    "import pandas as pd\n",
    "\n",
    "from recommenders.models.newsrec.models.nrms import NRMSModel\n",
    "\n",
    "import wandb\n",
    "from recommenders.models.deeprec.deeprec_utils import \\\n",
    "    download_deeprec_resources\n",
    "from recommenders.models.newsrec.io.mind_iterator import MINDIterator\n",
    "from recommenders.models.newsrec.newsrec_utils import (get_mind_data_set,\n",
    "                                               prepare_hparams)\n",
    "\n",
    "from tqdm import tqdm\n",
    "import tensorflow as tf\n",
    "import seaborn as sns\n",
    "import matplotlib.pyplot as plt\n",
    "K = tf.keras.backend"
   ]
  },
  {
   "attachments": {},
   "cell_type": "markdown",
   "metadata": {},
   "source": [
    "Loading the trained models from 'Save_models/' . Available models are for history sizes 1,10,25,50 and 100 for NRMS"
   ]
  },
  {
   "cell_type": "code",
   "execution_count": 3,
   "metadata": {},
   "outputs": [
    {
     "name": "stderr",
     "output_type": "stream",
     "text": [
      "2023-01-01 18:25:33.954138: I tensorflow/compiler/jit/xla_gpu_device.cc:99] Not creating XLA devices, tf_xla_enable_xla_devices not set\n",
      "2023-01-01 18:25:34.457469: W tensorflow/core/framework/cpu_allocator_impl.cc:80] Allocation of 73191600 exceeds 10% of free system memory.\n",
      "2023-01-01 18:25:34.517521: W tensorflow/core/framework/cpu_allocator_impl.cc:80] Allocation of 73191600 exceeds 10% of free system memory.\n",
      "2023-01-01 18:25:37.299801: W tensorflow/core/framework/cpu_allocator_impl.cc:80] Allocation of 73191600 exceeds 10% of free system memory.\n"
     ]
    }
   ],
   "source": [
    "from recommenders_tests import load_small\n",
    "from utils.loading_utils import from_idx_to_UID,from_idx_to_words\n",
    "\n",
    "# Set the history size to 1,10,25,50 or 100\n",
    "history_size = 100\n",
    "\n",
    "train_news_file,train_behaviors_file,valid_news_file,valid_behaviors_file,wordEmb_file,userDict_file,wordDict_file,vertDict_file,subvertDict_file = load_small()\n",
    "yaml_file = os.path.join(\"Dataset_small\", \"utils\", r'nrms.yaml')\n",
    "\n",
    "test_behaviors_file=\"Dataset_small/test/behaviors.tsv\"\n",
    "\n",
    "hparams= prepare_hparams(yaml_file, \n",
    "                        wordEmb_file=wordEmb_file,\n",
    "                        wordDict_file=wordDict_file, \n",
    "                        userDict_file=userDict_file,\n",
    "                        vertDict_file=vertDict_file, \n",
    "                        subvertDict_file=subvertDict_file,\n",
    "                        batch_size=32,\n",
    "                        his_size = history_size,\n",
    "                        epochs=1)\n",
    "\n",
    "iterator = MINDIterator\n",
    "nrms = NRMSModel(hparams,iterator,42)\n",
    "\n",
    "\n",
    "train_news_file = \"Dataset_small/test/news.tsv\"\n",
    "train_behaviors_file = \"Dataset_small/Users_with_n_behaviors/behaviors.tsv\"\n",
    "\n",
    "# Train Model for tests\n",
    "if False:\n",
    "    nrms, results = nrms.fit(train_news_file, train_behaviors_file, valid_news_file, valid_behaviors_file, valid_news_file,track_wand=False,results_as_list = True)\n",
    "    nrms.save_weights('Save_models/content_model_weights', save_format='tf')    # Save results\n",
    "# Load Model for tests\n",
    "if True:\n",
    "    nrms.model.load_weights(f\"Save_models/NRMS_weights_hist_{history_size}/\")"
   ]
  },
  {
   "cell_type": "code",
   "execution_count": 4,
   "metadata": {},
   "outputs": [
    {
     "name": "stderr",
     "output_type": "stream",
     "text": [
      "0it [00:00, ?it/s]2023-01-01 18:25:55.102141: I tensorflow/compiler/jit/xla_gpu_device.cc:99] Not creating XLA devices, tf_xla_enable_xla_devices not set\n",
      "0it [00:14, ?it/s]"
     ]
    },
    {
     "name": "stdout",
     "output_type": "stream",
     "text": [
      "(32, 100, 1)\n",
      "[0.66579795 0.66562057 0.6653533  0.6181583  0.60073644 0.5687406\n",
      " 0.5545     0.55424625 0.5536796  0.5090644  0.47987124 0.46548524\n",
      " 0.43736103 0.42318133 0.42217618 0.40896988 0.40889138 0.39591947\n",
      " 0.39578885 0.37036636 0.3702651  0.3696959  0.36943626 0.36919796\n",
      " 0.3580398  0.35774428 0.33422217 0.32199183 0.31074238 0.3105811\n",
      " 0.31050456 0.31048098 0.31012097 0.2997739  0.29956928 0.29939064\n",
      " 0.29923877 0.28910884 0.28910318 0.2787123  0.27865502 0.2687451\n",
      " 0.2687249  0.26872125 0.2686998  0.26869717 0.26859388 0.26858523\n",
      " 0.26849672 0.26849017 0.2684661  0.26846203 0.26845703 0.268451\n",
      " 0.2683489  0.25985652 0.25984523 0.259819   0.25963128 0.2512299\n",
      " 0.2512299  0.2512299  0.2512299  0.2512299  0.2512299  0.2512299\n",
      " 0.2512299  0.2512299  0.2512299  0.2512299  0.2512299  0.2512299\n",
      " 0.2512299  0.2512299  0.2512299  0.2512299  0.2512299  0.2512299\n",
      " 0.2512299  0.2512299  0.2512299  0.2512299  0.2512299  0.2512299\n",
      " 0.2512299  0.2512299  0.2512299  0.2512299  0.2512299  0.2512299\n",
      " 0.2512299  0.2512299  0.2512299  0.2512299  0.2512299  0.2512299\n",
      " 0.2512299  0.2512299  0.2512299  0.2512299 ]\n",
      "[99 97 98 96 95 94 93 91 92 90 89 88 87 85 86 83 84 81 82 77 78 80 79 76\n",
      " 74 75 73 72 69 67 70 71 68 64 65 66 63 61 62 59 60 55 45 53 56 48 50 58\n",
      " 52 51 47 54 57 46 49 41 42 43 44 10 18 17 16 15 14 13 12 11  9 20  8  7\n",
      "  6  5  4  3  2  1 19 22 21 23 40 39 38 37 36 35 34 33 32 31 30 29 28 27\n",
      " 26 25 24  0]\n"
     ]
    },
    {
     "name": "stderr",
     "output_type": "stream",
     "text": [
      "\n"
     ]
    }
   ],
   "source": [
    "def get_attention_nrms(model : NRMSModel,user_input):\n",
    "\n",
    "    # Input runs to the two first layers\n",
    "    inputs = model.userencoder.layers[0](user_input)\n",
    "    inputs = model.userencoder.layers[1](inputs)\n",
    "\n",
    "    # Weights for attention mechanism\n",
    "    w_ = model.userencoder.layers[1].weights[4]\n",
    "    b_ = model.userencoder.layers[1].weights[5]\n",
    "    q_ = model.userencoder.layers[1].weights[6]\n",
    "\n",
    "    # tanh(w.x + b) . q\n",
    "    attention = K.tanh(K.dot(inputs, w_) + b_)\n",
    "    attention = K.dot(attention, q_)\n",
    "\n",
    "    attention = K.squeeze(attention, axis=2)\n",
    "\n",
    "    # Mask out every padding news titel e.g. User has history size 12 and max history size is 100 than the first 88 values are masked out\n",
    "    assert len(user_input.shape) == 3 , print(\"User input has to be of shape (batchsize, max_hist_size, max_title_size)\")\n",
    "    mask = np.count_nonzero(user_input != 0,axis=2)\n",
    "    mask = mask != 0\n",
    "    if mask is None:\n",
    "            attention = K.exp(attention)\n",
    "    else:\n",
    "            attention = K.exp(attention) * K.cast(mask, dtype=\"float32\")\n",
    "    \n",
    "    # Attention weights are basically probabilies \n",
    "    attention = K.exp(attention)\n",
    "\n",
    "    attention_weight = attention / (\n",
    "        K.sum(attention, axis=-1, keepdims=True) + K.epsilon()\n",
    "    )\n",
    "    \n",
    "    attention_weight = K.expand_dims(attention_weight)\n",
    "\n",
    "    return attention,attention_weight\n",
    "\n",
    "def visualize_attention(scores_mat : np.array):\n",
    "    fig = plt.figure(figsize=(20, 20))\n",
    "\n",
    "    for idx, scores in enumerate(scores_mat):\n",
    "        scores_np = np.array(scores)\n",
    "        ax = fig.add_subplot(4, 3, idx+1)\n",
    "        # append the attention weights\n",
    "        im = ax.imshow(scores, cmap='viridis')\n",
    "\n",
    "        fontdict = {'fontsize': 10}\n",
    "\n",
    "        ax.set_xticks(range(len(scores_mat)))\n",
    "        ax.set_yticks(range(len(scores_mat)))\n",
    "\n",
    "        ax.set_xticklabels(scores_mat, fontdict=fontdict, rotation=90)\n",
    "        ax.set_yticklabels(scores_mat, fontdict=fontdict)\n",
    "        ax.set_xlabel('{} {}'.format(scores_mat, idx+1))\n",
    "\n",
    "        fig.colorbar(im, fraction=0.046, pad=0.04)\n",
    "    plt.tight_layout()\n",
    "    plt.show()\n",
    "\n",
    "\n",
    "for batch_data_input in tqdm(\n",
    "            nrms.test_iterator.load_user_from_file(valid_news_file, valid_behaviors_file)\n",
    "        ):\n",
    "        with tf.compat.v1.Session() as sess:\n",
    "\n",
    "            # This makes it possible to see tensor vectors\n",
    "            init = tf.compat.v1.global_variables_initializer()\n",
    "            sess.run(init)\n",
    "            user_input = nrms._get_user_feature_from_iter(batch_data_input)\n",
    "            \n",
    "            # 1 x his_size x 30 \n",
    "            # batchsize x history x titlelenght\n",
    "            # Dim 1 : Batch\n",
    "            # Dim 2 : News aus der History\n",
    "            # Dim 3 : Word IDs welche Titel repräsentieren\n",
    "                \n",
    "            \n",
    "            attention, att_weight = get_attention_nrms(nrms,user_input)\n",
    "            \n",
    "            att_weight = sess.run(att_weight)\n",
    "\n",
    "            print(att_weight.shape)\n",
    "            # visualize_attention(att_weight)\n",
    "\n",
    "            # if you are using batches the outputs will be in batches\n",
    "            # get exact attentions of chars\n",
    "            an_attention_output = att_weight\n",
    "\n",
    "            sorted_news = np.argsort(np.sum(att_weight[:,:,0],axis=0))[::-1]\n",
    "            sorted_atts = np.sort(np.sum(att_weight[:,:,0],axis=0))[::-1]\n",
    "\n",
    "            print(sorted_atts)\n",
    "            print(sorted_news)\n",
    "            dict_ = dict(zip(sorted_news,sorted_atts))\n",
    "\n",
    "        break\n",
    "        \n"
   ]
  },
  {
   "cell_type": "code",
   "execution_count": 6,
   "metadata": {},
   "outputs": [
    {
     "name": "stderr",
     "output_type": "stream",
     "text": [
      "/home/langenhagen/.conda/envs/investigate_newsrec_bias/lib/python3.9/site-packages/seaborn/_decorators.py:36: FutureWarning: Pass the following variables as keyword args: x, y. From version 0.12, the only valid positional argument will be `data`, and passing other arguments without an explicit keyword will result in an error or misinterpretation.\n",
      "  warnings.warn(\n"
     ]
    },
    {
     "data": {
      "image/png": "[encoded data removed]",
      "text/plain": [
       "<Figure size 432x288 with 1 Axes>"
      ]
     },
     "metadata": {
      "needs_background": "light"
     },
     "output_type": "display_data"
    }
   ],
   "source": [
    "ax = sns.barplot(sorted_atts[::-1],sorted_news[::-1],orient='h')\n",
    "\n",
    "\n",
    "plt.tight_layout()\n",
    "ax.set_yticks(ax.get_yticks()[::5])\n",
    "plt.show()"
   ]
  }
 ],
 "metadata": {
  "kernelspec": {
   "display_name": "investigate_newsrec_bias",
   "language": "python",
   "name": "python3"
  },
  "language_info": {
   "codemirror_mode": {
    "name": "ipython",
    "version": 3
   },
   "file_extension": ".py",
   "mimetype": "text/x-python",
   "name": "python",
   "nbconvert_exporter": "python",
   "pygments_lexer": "ipython3",
   "version": "3.9.12"
  },
  "orig_nbformat": 4,
  "vscode": {
   "interpreter": {
    "hash": "2bd7e1ba3c568c7573905890cf56b3d9ed6499579064a7fa3ac296f14d51d6cc"
   }
  }
 },
 "nbformat": 4,
 "nbformat_minor": 2
}
