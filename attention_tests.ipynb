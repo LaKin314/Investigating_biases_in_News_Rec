{
 "cells": [
  {
   "attachments": {},
   "cell_type": "markdown",
   "metadata": {},
   "source": [
    "# Investigate Attention on NRMS"
   ]
  },
  {
   "attachments": {},
   "cell_type": "markdown",
   "metadata": {},
   "source": [
    "In this file, we take a look at the learned attention weights of NRMS. Therefore, NRMS can be trained or loaded from Save_models/ (has to be downloaded via \"Investigating_biases_in_News_Rec/utility_scripts/download_data_models.sh\")."
   ]
  },
  {
   "attachments": {},
   "cell_type": "markdown",
   "metadata": {},
   "source": [
    "Loading necessary libraries and recommendation models/utils"
   ]
  },
  {
   "cell_type": "code",
   "execution_count": 1,
   "metadata": {},
   "outputs": [
    {
     "name": "stderr",
     "output_type": "stream",
     "text": [
      "2023-01-02 11:57:10.365445: I tensorflow/stream_executor/platform/default/dso_loader.cc:49] Successfully opened dynamic library libcudart.so.10.1\n"
     ]
    }
   ],
   "source": [
    "import os\n",
    "import sys\n",
    "\n",
    "os.environ[\"CUDA_VISIBLE_DEVICES\"]=\"-1\"\n",
    "if \"../recommenders\" not in sys.path:\n",
    "    sys.path.insert(0,\"../recommenders\")\n",
    "\n",
    "import numpy as np\n",
    "import pandas as pd\n",
    "\n",
    "from recommenders.models.newsrec.models.nrms import NRMSModel\n",
    "\n",
    "import wandb\n",
    "from recommenders.models.deeprec.deeprec_utils import \\\n",
    "    download_deeprec_resources\n",
    "from recommenders.models.newsrec.io.mind_iterator import MINDIterator\n",
    "from recommenders.models.newsrec.newsrec_utils import (get_mind_data_set,\n",
    "                                               prepare_hparams)\n",
    "\n",
    "from tqdm import tqdm\n",
    "import tensorflow as tf\n",
    "import seaborn as sns\n",
    "import matplotlib.pyplot as plt\n",
    "K = tf.keras.backend"
   ]
  },
  {
   "attachments": {},
   "cell_type": "markdown",
   "metadata": {},
   "source": [
    "Loading the trained models from 'Save_models/' . Available models are for history sizes 1,10,25,50 and 100 for NRMS"
   ]
  },
  {
   "cell_type": "code",
   "execution_count": null,
   "metadata": {},
   "outputs": [],
   "source": [
    "from recommenders_tests import load_small\n",
    "from utils.loading_utils import from_idx_to_UID,from_idx_to_words\n",
    "\n",
    "# Set the history size to 1,10,25,50 or 100\n",
    "history_size = 100\n",
    "\n",
    "train_news_file,train_behaviors_file,valid_news_file,valid_behaviors_file,wordEmb_file,userDict_file,wordDict_file,vertDict_file,subvertDict_file = load_small()\n",
    "yaml_file = os.path.join(\"Dataset_small\", \"utils\", r'nrms.yaml')\n",
    "\n",
    "test_behaviors_file=\"Dataset_small/test/behaviors.tsv\"\n",
    "\n",
    "hparams= prepare_hparams(yaml_file, \n",
    "                        wordEmb_file=wordEmb_file,\n",
    "                        wordDict_file=wordDict_file, \n",
    "                        userDict_file=userDict_file,\n",
    "                        vertDict_file=vertDict_file, \n",
    "                        subvertDict_file=subvertDict_file,\n",
    "                        batch_size=32,\n",
    "                        his_size = history_size,\n",
    "                        epochs=1)\n",
    "\n",
    "iterator = MINDIterator\n",
    "nrms = NRMSModel(hparams,iterator,42)\n",
    "\n",
    "\n",
    "train_news_file = \"Dataset_small/test/news.tsv\"\n",
    "train_behaviors_file = \"Dataset_small/Users_with_n_behaviors/behaviors.tsv\"\n",
    "\n",
    "# Train Model for tests\n",
    "if False:\n",
    "    nrms, results = nrms.fit(train_news_file, train_behaviors_file, valid_news_file, valid_behaviors_file, valid_news_file,track_wand=False,results_as_list = True)\n",
    "    nrms.save_weights('Save_models/content_model_weights', save_format='tf')    # Save results\n",
    "# Load Model for tests\n",
    "if True:\n",
    "    nrms.model.load_weights(f\"Save_models/NRMS_weights_hist_{history_size}/\")"
   ]
  },
  {
   "cell_type": "code",
   "execution_count": 12,
   "metadata": {},
   "outputs": [
    {
     "name": "stderr",
     "output_type": "stream",
     "text": [
      "0it [00:00, ?it/s]2023-01-02 12:10:09.407517: I tensorflow/compiler/jit/xla_gpu_device.cc:99] Not creating XLA devices, tf_xla_enable_xla_devices not set\n",
      "1it [00:03,  3.61s/it]"
     ]
    },
    {
     "name": "stdout",
     "output_type": "stream",
     "text": [
      "(32, 100, 1)\n",
      "[0.65395254 0.6535249  0.6532823  0.6074023  0.59155715 0.5609017\n",
      " 0.54600954 0.5452977  0.5444304  0.502486   0.47352263 0.46001136\n",
      " 0.43274838 0.41938716 0.41894004 0.4068747  0.406801   0.39452037\n",
      " 0.39340925 0.36960182 0.3686639  0.36859894 0.36819673 0.36775115\n",
      " 0.35688594 0.35658368 0.3339152  0.32245907 0.31144416 0.31141406\n",
      " 0.31138897 0.3112036  0.31096482 0.30053154 0.3004723  0.3002698\n",
      " 0.30012134 0.2902114  0.29001504 0.28006768 0.2800529  0.27071264\n",
      " 0.27065024 0.27060682 0.2704887  0.27046636 0.27043697 0.27041683\n",
      " 0.27041304 0.2703201  0.27031517 0.27029234 0.27025616 0.27019778\n",
      " 0.27015626 0.2618309  0.26172754 0.26170605 0.26166394 0.25345045\n",
      " 0.25345045 0.25345045 0.25345045 0.25345045 0.25345045 0.25345045\n",
      " 0.25345045 0.25345045 0.25345045 0.25345045 0.25345045 0.25345045\n",
      " 0.25345045 0.25345045 0.25345045 0.25345045 0.25345045 0.25345045\n",
      " 0.25345045 0.25345045 0.25345045 0.25345045 0.25345045 0.25345045\n",
      " 0.25345045 0.25345045 0.25345045 0.25345045 0.25345045 0.25345045\n",
      " 0.25345045 0.25345045 0.25345045 0.25345045 0.25345045 0.25345045\n",
      " 0.25345045 0.25345045 0.25345045 0.25345045]\n",
      "[98 99 97 96 95 94 93 92 91 90 89 88 87 86 85 83 84 81 82 79 80 78 77 76\n",
      " 74 75 73 72 68 71 69 70 67 66 64 63 65 62 61 59 60 47 46 58 49 53 50 57\n",
      " 56 45 52 54 51 55 48 42 44 43 41 18 17 16 15 14 10 13 12 11  4  9  8  7\n",
      "  6  5 20  3  2  1 19 27 21 22 40 39 38 37 36 35 34 33 32 31 30 29 28 26\n",
      " 25 24 23  0]\n"
     ]
    },
    {
     "name": "stderr",
     "output_type": "stream",
     "text": [
      "2023-01-02 12:10:13.018195: I tensorflow/compiler/jit/xla_gpu_device.cc:99] Not creating XLA devices, tf_xla_enable_xla_devices not set\n",
      "2it [00:06,  3.32s/it]"
     ]
    },
    {
     "name": "stdout",
     "output_type": "stream",
     "text": [
      "(32, 100, 1)\n",
      "[0.5715428  0.57140493 0.5707715  0.5548942  0.53964376 0.50976783\n",
      " 0.4797982  0.4797696  0.47959074 0.45037016 0.42369428 0.4226994\n",
      " 0.42254135 0.36905462 0.36900988 0.36885393 0.36852223 0.35628885\n",
      " 0.3560526  0.3439821  0.34373435 0.34358472 0.3433696  0.34336782\n",
      " 0.34336263 0.34321383 0.34305504 0.343023   0.34284332 0.33267424\n",
      " 0.3219137  0.32189205 0.32175112 0.3215908  0.3214067  0.32131714\n",
      " 0.3211699  0.3211262  0.32109034 0.32104084 0.32087082 0.32085407\n",
      " 0.3115067  0.31142    0.30242673 0.3023598  0.30193877 0.2930971\n",
      " 0.29302752 0.29293722 0.29291016 0.2928947  0.29281124 0.29280555\n",
      " 0.29278752 0.29275954 0.29268396 0.29267913 0.2926433  0.2925543\n",
      " 0.2924314  0.29242602 0.2923971  0.29237005 0.28511852 0.284862\n",
      " 0.28436428 0.27698523 0.27690306 0.27667305 0.27659264 0.26208293\n",
      " 0.2619711  0.26183286 0.26181984 0.2616588  0.2613885  0.25437462\n",
      " 0.24761997 0.24761939 0.24738303 0.24736245 0.24734594 0.24733187\n",
      " 0.24732749 0.24729262 0.24728967 0.24725485 0.24725015 0.24722719\n",
      " 0.2472145  0.24720849 0.24715896 0.24713714 0.24711066 0.24707688\n",
      " 0.24705778 0.24102327 0.24090798 0.24080056]\n",
      "[99 98 97 96 95 94 93 91 92 90 89 87 88 84 83 86 85 82 81 79 73 77 78 76\n",
      " 72 80 74 71 75 70 61 64 62 63 67 69 66 65 60 59 58 68 56 57 55 53 54 45\n",
      " 47 46 48 49 52 44 43 51 50 42 39 40 41 37 38 36 33 35 34 32 31 29 30 28\n",
      " 24 23 25 26 27 22 10 16 12 14  3 11 21 17  9  5  4  7 18  6 19  8 13 20\n",
      " 15  1  0  2]\n"
     ]
    },
    {
     "name": "stderr",
     "output_type": "stream",
     "text": [
      "2023-01-02 12:10:16.125516: I tensorflow/compiler/jit/xla_gpu_device.cc:99] Not creating XLA devices, tf_xla_enable_xla_devices not set\n",
      "3it [00:09,  3.22s/it]"
     ]
    },
    {
     "name": "stdout",
     "output_type": "stream",
     "text": [
      "(32, 100, 1)\n",
      "[0.59869516 0.5966637  0.58185506 0.5653601  0.5495993  0.5207969\n",
      " 0.49044657 0.46075952 0.46054664 0.4599408  0.44692987 0.4316872\n",
      " 0.4176643  0.3917258  0.3917146  0.39157355 0.39053386 0.37926084\n",
      " 0.3782042  0.3665248  0.36631873 0.36554658 0.35405782 0.35385543\n",
      " 0.3538321  0.34181783 0.34172416 0.3318406  0.3201414  0.3194178\n",
      " 0.30921116 0.3091326  0.30909517 0.30901745 0.30897748 0.30893517\n",
      " 0.3088014  0.3087623  0.3086628  0.30865982 0.3085902  0.308518\n",
      " 0.30846736 0.29938537 0.29931656 0.29929355 0.29909682 0.29002213\n",
      " 0.2899176  0.28100753 0.2807862  0.2807458  0.28068918 0.27241394\n",
      " 0.27230188 0.27227297 0.2722441  0.2722228  0.27218008 0.2721656\n",
      " 0.2720961  0.2720841  0.27208018 0.27206126 0.27205002 0.27203476\n",
      " 0.27202836 0.27202678 0.27200752 0.2719735  0.27193707 0.27188876\n",
      " 0.2718217  0.2717932  0.27174494 0.2717399  0.271592   0.2715685\n",
      " 0.26486972 0.26480892 0.264753   0.25803548 0.2509396  0.25093657\n",
      " 0.25087598 0.25086623 0.25085607 0.25080162 0.25077003 0.25075847\n",
      " 0.2507341  0.25072154 0.2506762  0.2506448  0.25061613 0.25059867\n",
      " 0.2505821  0.25058088 0.25057876 0.25053892]\n",
      "[99 98 97 96 95 94 93 92 91 90 89 88 87 86 84 85 83 82 81 79 80 78 75 77\n",
      " 76 73 74 72 70 71 62 64 65 59 69 58 63 68 67 60 61 57 66 54 55 53 56 52\n",
      " 51 50 47 48 49 28 39 42 36 40 38 23 26 30 45 34 31 24 32 43 27 41 37 29\n",
      " 25 33 46 35 44 22 21 19 20 18 13  8 11  6  5  7 10  9  1  4  0 14  3 15\n",
      " 16  2 17 12]\n"
     ]
    },
    {
     "name": "stderr",
     "output_type": "stream",
     "text": [
      "2023-01-02 12:10:19.223376: I tensorflow/compiler/jit/xla_gpu_device.cc:99] Not creating XLA devices, tf_xla_enable_xla_devices not set\n",
      "4it [00:14,  3.65s/it]"
     ]
    },
    {
     "name": "stdout",
     "output_type": "stream",
     "text": [
      "(32, 100, 1)\n",
      "[0.6361459  0.6200796  0.62000906 0.5883609  0.5584061  0.55742735\n",
      " 0.5434531  0.5434236  0.49993753 0.48522708 0.47150803 0.4712269\n",
      " 0.47078267 0.47043562 0.46936366 0.4460971  0.40594542 0.39291987\n",
      " 0.39170158 0.3803967  0.3803233  0.3796509  0.367465   0.35593918\n",
      " 0.3557445  0.33297408 0.32151666 0.32138965 0.32129008 0.32116708\n",
      " 0.3102897  0.3099774  0.30962485 0.29978642 0.2995904  0.2991315\n",
      " 0.2893249  0.28915602 0.28912008 0.2889892  0.28875178 0.279147\n",
      " 0.27001792 0.26992223 0.2698438  0.26983333 0.2697879  0.26972434\n",
      " 0.26968724 0.26967406 0.2696685  0.2696121  0.26956418 0.2695573\n",
      " 0.2695433  0.26953977 0.26948455 0.2694437  0.2693788  0.2691158\n",
      " 0.26146895 0.26139623 0.26137444 0.2613666  0.2613604  0.26131713\n",
      " 0.26130906 0.26122507 0.26115423 0.26114094 0.2539178  0.25388923\n",
      " 0.25376952 0.25374794 0.25373378 0.2537088  0.25369188 0.2536914\n",
      " 0.25364128 0.25363472 0.25362623 0.25361466 0.25361285 0.25358886\n",
      " 0.24677627 0.24677627 0.24677627 0.24677627 0.24677627 0.24677627\n",
      " 0.24677627 0.24677627 0.24677627 0.24677627 0.24677627 0.24677627\n",
      " 0.24677627 0.24677627 0.24677627 0.24677627]\n",
      "[99 98 97 96 95 94 92 93 91 90 88 87 89 86 85 84 83 82 81 78 79 80 77 75\n",
      " 76 74 72 70 71 73 67 68 69 66 64 65 62 59 63 61 60 58 43 51 40 57 55 46\n",
      " 54 41 53 52 49 44 47 50 48 42 56 45 35 34 39 38 31 37 32 33 30 36 25 28\n",
      " 23 29 19 20 24 26 16 27 21 22 18 17  1  2  7  3  4  5  6 13  8  9 10 11\n",
      " 12 14 15  0]\n"
     ]
    },
    {
     "name": "stderr",
     "output_type": "stream",
     "text": [
      "2023-01-02 12:10:23.539692: I tensorflow/compiler/jit/xla_gpu_device.cc:99] Not creating XLA devices, tf_xla_enable_xla_devices not set\n",
      "5it [00:17,  3.73s/it]"
     ]
    },
    {
     "name": "stdout",
     "output_type": "stream",
     "text": [
      "(32, 100, 1)\n",
      "[0.60017884 0.58354396 0.5683896  0.56811154 0.5516744  0.5226942\n",
      " 0.5225489  0.49309945 0.47933194 0.45043078 0.4208227  0.4080334\n",
      " 0.40797898 0.40782657 0.4076519  0.4075681  0.39475098 0.3945117\n",
      " 0.38236523 0.36960515 0.36928973 0.36884657 0.35738188 0.3570208\n",
      " 0.346199   0.34594923 0.34521258 0.33441877 0.33394146 0.33388937\n",
      " 0.3337806  0.3335448  0.32332495 0.3231757  0.32269973 0.3130821\n",
      " 0.31302541 0.31299612 0.3128515  0.31284878 0.31282195 0.3127866\n",
      " 0.31245887 0.31227848 0.30342007 0.30310953 0.30309966 0.3028571\n",
      " 0.29426724 0.2942525  0.2940075  0.28541234 0.28513458 0.28497872\n",
      " 0.27698216 0.27657995 0.2764732  0.27637273 0.2763299  0.2763271\n",
      " 0.2681919  0.26813436 0.26808617 0.2680272  0.26055777 0.26044416\n",
      " 0.2603999  0.26032436 0.26029965 0.26025027 0.2601824  0.26013675\n",
      " 0.2601328  0.26012632 0.26011333 0.2600682  0.26006278 0.2600616\n",
      " 0.2600527  0.26004437 0.25973633 0.25302926 0.24637127 0.24635117\n",
      " 0.24630466 0.24628977 0.24610679 0.24605651 0.24598148 0.23950776\n",
      " 0.2394999  0.23947048 0.23947042 0.23945275 0.23941779 0.23940958\n",
      " 0.23938945 0.23932593 0.23929244 0.23929177]\n",
      "[99 98 97 96 95 94 93 92 91 90 89 87 85 88 86 84 82 83 81 79 80 78 76 77\n",
      " 75 74 73 72 69 71 68 70 66 67 65 59 64 61 58 62 57 60 56 63 54 53 52 55\n",
      " 51 49 50 46 47 48 40 44 45 43 41 42 39 37 38 36 32 25 24 20 35 23 19 31\n",
      " 26 34 22 30 28 21 27 29 33 18 13 16 12 14 11 15 17  5  4  3  7  0  2  1\n",
      "  6 10  9  8]\n"
     ]
    },
    {
     "name": "stderr",
     "output_type": "stream",
     "text": [
      "2023-01-02 12:10:27.406642: I tensorflow/compiler/jit/xla_gpu_device.cc:99] Not creating XLA devices, tf_xla_enable_xla_devices not set\n",
      "6it [00:21,  3.76s/it]"
     ]
    },
    {
     "name": "stdout",
     "output_type": "stream",
     "text": [
      "(32, 100, 1)\n",
      "[0.5648673  0.5318761  0.5167552  0.5164788  0.5161405  0.5155469\n",
      " 0.50158    0.48537105 0.45764598 0.45760128 0.44237986 0.430409\n",
      " 0.42899314 0.42843184 0.41623375 0.40280303 0.40253368 0.4022479\n",
      " 0.38945314 0.37778234 0.3774097  0.37719253 0.36505127 0.36480922\n",
      " 0.35339683 0.35338455 0.35245046 0.34227824 0.3421706  0.34202662\n",
      " 0.34198353 0.34180582 0.3417996  0.34178916 0.3416862  0.34160826\n",
      " 0.3318467  0.33126354 0.32114363 0.31231603 0.31205907 0.3117401\n",
      " 0.31146652 0.31116682 0.3020518  0.30196968 0.30188572 0.30174825\n",
      " 0.29345316 0.29341766 0.2934094  0.2932554  0.29317218 0.29308426\n",
      " 0.2929024  0.29288143 0.2927228  0.29269302 0.2926924  0.2924171\n",
      " 0.28426403 0.28424644 0.27693132 0.27633873 0.27633706 0.27625334\n",
      " 0.26897192 0.26871422 0.26865765 0.26827204 0.26113528 0.2609682\n",
      " 0.26076505 0.24639733 0.24596076 0.24588917 0.2457113  0.23904169\n",
      " 0.23904088 0.23883028 0.23878767 0.23877941 0.23867403 0.23866116\n",
      " 0.23866011 0.23864965 0.23857155 0.23852657 0.23849948 0.23245974\n",
      " 0.23226193 0.23222199 0.23212056 0.23210731 0.2320677  0.23204784\n",
      " 0.23196913 0.23189312 0.23188244 0.22569706]\n",
      "[99 98 97 95 96 94 93 92 91 90 89 87 86 88 85 83 82 84 81 78 80 79 76 77\n",
      " 73 75 74 70 67 71 65 72 64 69 68 66 63 62 61 58 56 59 57 60 55 53 52 54\n",
      " 43 47 49 48 42 46 50 51 40 44 41 45 39 38 36 34 37 35 31 33 30 32 29 27\n",
      " 28 24 25 23 26 12 15 22 21 17 20 16 19 18 11 14 13  8  6  4  1  5  2  7\n",
      " 10  9  3  0]\n"
     ]
    },
    {
     "name": "stderr",
     "output_type": "stream",
     "text": [
      "2023-01-02 12:10:31.241238: I tensorflow/compiler/jit/xla_gpu_device.cc:99] Not creating XLA devices, tf_xla_enable_xla_devices not set\n",
      "7it [00:25,  3.62s/it]"
     ]
    },
    {
     "name": "stdout",
     "output_type": "stream",
     "text": [
      "(32, 100, 1)\n",
      "[0.57395    0.57366216 0.57298446 0.5728578  0.57284766 0.57271516\n",
      " 0.54298973 0.5423598  0.52839845 0.5280215  0.5008882  0.48708454\n",
      " 0.47169203 0.45894396 0.45885688 0.45838213 0.42059186 0.40714195\n",
      " 0.39492747 0.39479694 0.39464504 0.39431852 0.38216993 0.35846323\n",
      " 0.3579716  0.34732518 0.3123119  0.31230146 0.30122945 0.30106506\n",
      " 0.30103436 0.30078623 0.2906579  0.29062477 0.2904357  0.28015238\n",
      " 0.2801324  0.28009576 0.28007382 0.2799241  0.27990797 0.2799072\n",
      " 0.27990443 0.2799012  0.279901   0.2798884  0.27972716 0.27968323\n",
      " 0.2796203  0.279566   0.27954143 0.2792985  0.27111104 0.27110836\n",
      " 0.2708459  0.27076787 0.27073842 0.270727   0.26302543 0.26288047\n",
      " 0.26274505 0.26264197 0.26261175 0.26243064 0.26242077 0.26239443\n",
      " 0.2623939  0.26236597 0.2621278  0.2551678  0.25508952 0.25507566\n",
      " 0.25506416 0.25506    0.25504932 0.25494146 0.2548263  0.2548212\n",
      " 0.25473025 0.25469133 0.24814668 0.24812292 0.24794033 0.24792461\n",
      " 0.24788678 0.24778251 0.24777786 0.24776204 0.24775791 0.24775104\n",
      " 0.24775063 0.24771924 0.24769033 0.2476582  0.24765734 0.24765168\n",
      " 0.24764498 0.24763921 0.24763839 0.24758647]\n",
      "[98 99 96 94 97 95 93 92 91 90 89 88 87 85 84 86 83 82 81 80 79 78 77 76\n",
      " 75 74 72 73 68 71 70 69 67 66 65 58 51 56 60 49 53 62 52 64 48 59 57 55\n",
      " 63 50 61 54 44 42 43 47 45 46 33 39 31 36 37 41 34 35 32 38 40 26 22 23\n",
      " 30 24 28 29 20 25 27 21  0 11  4 17  9  1  8 12 16  7  2  6 18  3 13  5\n",
      " 10 14 15 19]\n"
     ]
    },
    {
     "name": "stderr",
     "output_type": "stream",
     "text": [
      "2023-01-02 12:10:34.575689: I tensorflow/compiler/jit/xla_gpu_device.cc:99] Not creating XLA devices, tf_xla_enable_xla_devices not set\n",
      "8it [00:28,  3.57s/it]"
     ]
    },
    {
     "name": "stdout",
     "output_type": "stream",
     "text": [
      "(32, 100, 1)\n",
      "[0.58182317 0.5508063  0.55044305 0.53581166 0.53461736 0.5052746\n",
      " 0.5041527  0.504126   0.4612057  0.4460493  0.44574508 0.40510944\n",
      " 0.4049781  0.4047612  0.40457723 0.404322   0.3917254  0.39171895\n",
      " 0.37949514 0.37905502 0.36651626 0.3540021  0.3539673  0.35386607\n",
      " 0.33140048 0.33112344 0.330827   0.3307886  0.33071125 0.33053708\n",
      " 0.33053556 0.33050492 0.33043423 0.33035246 0.3202298  0.32018173\n",
      " 0.31048203 0.31027362 0.31008166 0.30984527 0.30983832 0.30975652\n",
      " 0.30961826 0.30081567 0.30080527 0.29056415 0.28191617 0.2818389\n",
      " 0.28177354 0.28172603 0.28167558 0.281591   0.2815742  0.28155592\n",
      " 0.28155285 0.28154433 0.28150272 0.28143626 0.2814058  0.28137216\n",
      " 0.2813288  0.28132513 0.2812068  0.2810261  0.2731928  0.2657182\n",
      " 0.26569358 0.25789127 0.25787354 0.25785872 0.25785744 0.25783217\n",
      " 0.2578268  0.25782636 0.2578251  0.2578115  0.25779438 0.2577793\n",
      " 0.2577483  0.25774202 0.257735   0.2577167  0.25769848 0.2576796\n",
      " 0.2576692  0.25766888 0.25766376 0.2576618  0.25766015 0.2576418\n",
      " 0.25763288 0.25761607 0.2576076  0.25760195 0.25759226 0.25758696\n",
      " 0.25756788 0.2575297  0.2575206  0.2574672 ]\n",
      "[99 98 97 96 95 92 93 94 91 90 89 86 87 88 84 85 82 83 81 80 79 76 77 78\n",
      " 67 71 69 70 68 66 72 73 75 74 65 64 63 58 62 61 57 60 59 55 56 54 38 42\n",
      " 41 37 36 47 45 49 43 53 39 44 46 52 51 48 40 50 35 33 34  5 20 16 32 22\n",
      "  2  9 14  8 17  0 15 28 26 27 24 19 31  1 11 23 18 29  3  7  4 30 21 12\n",
      " 13 10 25  6]\n"
     ]
    },
    {
     "name": "stderr",
     "output_type": "stream",
     "text": [
      "2023-01-02 12:10:38.042168: I tensorflow/compiler/jit/xla_gpu_device.cc:99] Not creating XLA devices, tf_xla_enable_xla_devices not set\n",
      "9it [00:33,  4.09s/it]"
     ]
    },
    {
     "name": "stdout",
     "output_type": "stream",
     "text": [
      "(32, 100, 1)\n",
      "[0.5764282  0.56275296 0.56222546 0.5456031  0.545468   0.5157747\n",
      " 0.48645356 0.48617312 0.48593548 0.47138625 0.47138336 0.47104266\n",
      " 0.4577741  0.457375   0.4441909  0.43166482 0.43043345 0.4177237\n",
      " 0.41752523 0.40565145 0.39365673 0.36851004 0.34495732 0.3448111\n",
      " 0.33345965 0.3334141  0.33325976 0.33296716 0.3328885  0.3327327\n",
      " 0.3325112  0.33244562 0.33239958 0.33219483 0.33216506 0.32257968\n",
      " 0.30158097 0.29176813 0.29148608 0.28185695 0.28175297 0.28162867\n",
      " 0.28160384 0.28154802 0.28154197 0.28151584 0.28146055 0.28140467\n",
      " 0.28131098 0.2812773  0.28120717 0.2811295  0.27302825 0.27245647\n",
      " 0.26412347 0.2641219  0.26407418 0.264051   0.26402658 0.26397935\n",
      " 0.2639328  0.2638844  0.26383528 0.26381072 0.2636556  0.2634587\n",
      " 0.2562819  0.25627893 0.25626883 0.25624883 0.25621682 0.2561679\n",
      " 0.25612608 0.2561239  0.2560837  0.25602433 0.25600672 0.2559997\n",
      " 0.2559752  0.25597104 0.25596327 0.25596026 0.25595394 0.25594866\n",
      " 0.25593278 0.25590292 0.255893   0.25587863 0.25586915 0.2558571\n",
      " 0.255847   0.255845   0.25582364 0.2557559  0.24979122 0.24977943\n",
      " 0.24958846 0.24950202 0.24942465 0.24927938]\n",
      "[99 98 97 95 96 94 91 93 92 88 90 89 87 86 85 83 84 82 81 80 79 78 76 77\n",
      " 70 67 71 68 75 74 73 65 69 66 72 64 63 62 61 52 51 50 58 60 48 59 49 53\n",
      " 57 54 56 55 46 47 34 40 37 44 35 39 43 36 42 41 38 45 27 18 31 10 11  6\n",
      " 21 23 22  9 12 29 15 25 28 14 20 19 32 30 16  8 33 26 13 24 17  7  1  4\n",
      "  5  3  2  0]\n"
     ]
    },
    {
     "name": "stderr",
     "output_type": "stream",
     "text": [
      "2023-01-02 12:10:43.262333: I tensorflow/compiler/jit/xla_gpu_device.cc:99] Not creating XLA devices, tf_xla_enable_xla_devices not set\n",
      "10it [00:37,  3.97s/it]"
     ]
    },
    {
     "name": "stdout",
     "output_type": "stream",
     "text": [
      "(32, 100, 1)\n",
      "[0.64484614 0.643649   0.6285438  0.61263156 0.5976749  0.5673361\n",
      " 0.53674984 0.5229211  0.521      0.49217147 0.46434954 0.4516721\n",
      " 0.45051667 0.43763873 0.43740222 0.4101049  0.39742488 0.37210608\n",
      " 0.37189135 0.3598905  0.35975772 0.3594656  0.34835333 0.34785366\n",
      " 0.34785324 0.3477111  0.33530694 0.32503444 0.3249747  0.32488188\n",
      " 0.32452014 0.32380393 0.31425804 0.31415874 0.31385309 0.31375328\n",
      " 0.31363556 0.30406412 0.3037369  0.30355626 0.28401873 0.27417228\n",
      " 0.27401906 0.2739853  0.27398208 0.27390116 0.26499218 0.26491404\n",
      " 0.26489538 0.26485944 0.26484305 0.264842   0.26483518 0.2647958\n",
      " 0.26472965 0.2647183  0.2647142  0.26463857 0.2645981  0.2645876\n",
      " 0.26451224 0.26445246 0.25678852 0.25673765 0.2567178  0.25669193\n",
      " 0.25663668 0.2566238  0.25659528 0.25659445 0.25659224 0.2565833\n",
      " 0.2565485  0.2565208  0.25651887 0.2565088  0.25647503 0.25643572\n",
      " 0.25642803 0.25642458 0.25642386 0.25642353 0.25642318 0.25636208\n",
      " 0.24980612 0.24980512 0.2497392  0.24971643 0.24970888 0.24970315\n",
      " 0.24970159 0.24969216 0.24969146 0.24965538 0.24964762 0.24963763\n",
      " 0.24961993 0.24961635 0.24959628 0.24954769]\n",
      "[99 98 97 96 95 94 93 92 91 90 89 88 87 86 85 84 83 81 82 78 80 79 76 75\n",
      " 77 74 73 70 68 69 71 72 64 66 63 67 65 62 61 60 59 55 58 54 56 57 45 48\n",
      " 43 52 51 44 47 46 42 53 41 40 39 49 38 50 27 24 19 36 25 37 23 35 16 21\n",
      " 20 29 32 30 17 34 22 31 26 33 28 18 10 11  1 14  2 12  9  8  5  7 13  3\n",
      "  0  4 15  6]\n"
     ]
    },
    {
     "name": "stderr",
     "output_type": "stream",
     "text": [
      "2023-01-02 12:10:46.949886: I tensorflow/compiler/jit/xla_gpu_device.cc:99] Not creating XLA devices, tf_xla_enable_xla_devices not set\n",
      "10it [00:39,  3.93s/it]\n"
     ]
    }
   ],
   "source": [
    "def get_attention_nrms(model : NRMSModel,user_input):\n",
    "\n",
    "    # Input runs to the two first layers\n",
    "    inputs = model.userencoder.layers[0](user_input)\n",
    "    inputs = model.userencoder.layers[1](inputs)\n",
    "\n",
    "    # Weights for attention mechanism\n",
    "    w_ = model.userencoder.layers[1].weights[4]\n",
    "    b_ = model.userencoder.layers[1].weights[5]\n",
    "    q_ = model.userencoder.layers[1].weights[6]\n",
    "\n",
    "    # tanh(w.x + b) . q\n",
    "    attention = K.tanh(K.dot(inputs, w_) + b_)\n",
    "    attention = K.dot(attention, q_)\n",
    "\n",
    "    attention = K.squeeze(attention, axis=2)\n",
    "\n",
    "    # Mask out every padding news titel e.g. User has history size 12 and max history size is 100 than the first 88 values are masked out\n",
    "    assert len(user_input.shape) == 3 , print(\"User input has to be of shape (batchsize, max_hist_size, max_title_size)\")\n",
    "    mask = np.count_nonzero(user_input != 0,axis=2)\n",
    "    mask = mask != 0\n",
    "    if mask is None:\n",
    "            attention = K.exp(attention)\n",
    "    else:\n",
    "            attention = K.exp(attention) * K.cast(mask, dtype=\"float32\")\n",
    "    \n",
    "    # Attention weights are basically probabilies \n",
    "    attention = K.exp(attention)\n",
    "\n",
    "    attention_weight = attention / (\n",
    "        K.sum(attention, axis=-1, keepdims=True) + K.epsilon()\n",
    "    )\n",
    "    \n",
    "    attention_weight = K.expand_dims(attention_weight)\n",
    "\n",
    "    return attention,attention_weight\n",
    "\n",
    "\n",
    "first = True\n",
    "i = 10\n",
    "j = 0\n",
    "for batch_data_input in tqdm(\n",
    "            nrms.test_iterator.load_user_from_file(valid_news_file, valid_behaviors_file)\n",
    "        ):\n",
    "        with tf.compat.v1.Session() as sess:\n",
    "            \n",
    "\n",
    "            # This makes it possible to see tensor vectors\n",
    "            init = tf.compat.v1.global_variables_initializer()\n",
    "            sess.run(init)\n",
    "            user_input = nrms._get_user_feature_from_iter(batch_data_input)\n",
    "            \n",
    "            # 1 x his_size x 30 \n",
    "            # batchsize x history x titlelenght\n",
    "            # Dim 1 : Batch\n",
    "            # Dim 2 : News aus der History\n",
    "            # Dim 3 : Word IDs welche Titel repräsentieren\n",
    "                \n",
    "            if i==j:\n",
    "                break\n",
    "            else:\n",
    "                j +=1\n",
    "            attention, att_weight = get_attention_nrms(nrms,user_input)\n",
    "            \n",
    "            att_weight = sess.run(att_weight)\n",
    "\n",
    "            if first:\n",
    "                first = False\n",
    "                results = att_weight\n",
    "            else:\n",
    "                results += att_weight\n",
    "\n",
    "            print(att_weight.shape)\n",
    "\n",
    "            # if you are using batches the outputs will be in batches\n",
    "            # get exact attentions of chars\n",
    "            an_attention_output = att_weight\n",
    "\n",
    "            sorted_news = np.argsort(np.sum(att_weight[:,:,0],axis=0))[::-1]\n",
    "            sorted_atts = np.sort(np.sum(att_weight[:,:,0],axis=0))[::-1]\n",
    "\n",
    "            print(sorted_atts)\n",
    "            print(sorted_news)\n",
    "            dict_ = dict(zip(sorted_news,sorted_atts))\n",
    "\n",
    "       \n",
    "        \n"
   ]
  },
  {
   "cell_type": "code",
   "execution_count": 15,
   "metadata": {},
   "outputs": [],
   "source": [
    "sorted_news = np.argsort(np.sum(results[:,:,0],axis=0))[::-1]\n",
    "sorted_atts = np.sort(np.sum(results[:,:,0],axis=0))[::-1] * (1/10)"
   ]
  },
  {
   "cell_type": "code",
   "execution_count": 19,
   "metadata": {},
   "outputs": [
    {
     "name": "stderr",
     "output_type": "stream",
     "text": [
      "/home/langenhagen/.conda/envs/investigate_newsrec_bias/lib/python3.9/site-packages/seaborn/_decorators.py:36: FutureWarning: Pass the following variables as keyword args: x, y. From version 0.12, the only valid positional argument will be `data`, and passing other arguments without an explicit keyword will result in an error or misinterpretation.\n",
      "  warnings.warn(\n"
     ]
    },
    {
     "data": {
      "image/png": "[encoded data removed]",
      "text/plain": [
       "<Figure size 432x288 with 1 Axes>"
      ]
     },
     "metadata": {
      "needs_background": "light"
     },
     "output_type": "display_data"
    }
   ],
   "source": [
    "ax = sns.barplot(sorted_atts[::-1],sorted_news[::-1],orient='h')\n",
    "\n",
    "plt.xlabel('Attention weight')\n",
    "plt.ylabel('History entry')\n",
    "plt.tight_layout()\n",
    "ax.set_yticks(ax.get_yticks()[::5])\n",
    "# plt.savefig('Attention.pdf',format='pdf',bbox_inches = \"tight\")\n",
    "plt.show()"
   ]
  }
 ],
 "metadata": {
  "kernelspec": {
   "display_name": "investigate_newsrec_bias",
   "language": "python",
   "name": "python3"
  },
  "language_info": {
   "codemirror_mode": {
    "name": "ipython",
    "version": 3
   },
   "file_extension": ".py",
   "mimetype": "text/x-python",
   "name": "python",
   "nbconvert_exporter": "python",
   "pygments_lexer": "ipython3",
   "version": "3.9.12"
  },
  "orig_nbformat": 4,
  "vscode": {
   "interpreter": {
    "hash": "2bd7e1ba3c568c7573905890cf56b3d9ed6499579064a7fa3ac296f14d51d6cc"
   }
  }
 },
 "nbformat": 4,
 "nbformat_minor": 2
}
