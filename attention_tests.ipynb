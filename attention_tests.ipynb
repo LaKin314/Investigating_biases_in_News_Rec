{
 "cells": [
  {
   "attachments": {},
   "cell_type": "markdown",
   "metadata": {},
   "source": [
    "Loading necessary libraries and recommendation models/utils"
   ]
  },
  {
   "cell_type": "code",
   "execution_count": 1,
   "metadata": {},
   "outputs": [
    {
     "name": "stderr",
     "output_type": "stream",
     "text": [
      "2022-12-14 03:13:49.860261: I tensorflow/stream_executor/platform/default/dso_loader.cc:49] Successfully opened dynamic library libcudart.so.10.1\n"
     ]
    }
   ],
   "source": [
    "import os\n",
    "import sys\n",
    "\n",
    "os.environ[\"CUDA_VISIBLE_DEVICES\"]=\"0\"\n",
    "sys.path.insert(0,\"/home/langenhagen/Masterthesis/Masterarbeit/recommenders\")\n",
    "\n",
    "import numpy as np\n",
    "#import tensorflow as tf\n",
    "import pandas as pd\n",
    "\n",
    "from recommenders.models.newsrec.models.nrms import NRMSModel\n",
    "\n",
    "import wandb\n",
    "from recommenders.models.deeprec.deeprec_utils import \\\n",
    "    download_deeprec_resources\n",
    "from recommenders.models.newsrec.io.mind_iterator import MINDIterator\n",
    "from recommenders.models.newsrec.newsrec_utils import (get_mind_data_set,\n",
    "                                               prepare_hparams)"
   ]
  },
  {
   "attachments": {},
   "cell_type": "markdown",
   "metadata": {},
   "source": [
    "Loading the trained models from '/home/langenhagen/Masterthesis/Masterarbeit/Save_models/' . Available models are for history sizes 1,10,25,50 and 100 for NRMS"
   ]
  },
  {
   "cell_type": "code",
   "execution_count": 2,
   "metadata": {},
   "outputs": [
    {
     "name": "stderr",
     "output_type": "stream",
     "text": [
      "2022-12-14 03:14:29.415944: I tensorflow/core/platform/cpu_feature_guard.cc:142] This TensorFlow binary is optimized with oneAPI Deep Neural Network Library (oneDNN) to use the following CPU instructions in performance-critical operations:  SSE4.1 SSE4.2 AVX AVX2 FMA\n",
      "To enable them in other operations, rebuild TensorFlow with the appropriate compiler flags.\n",
      "2022-12-14 03:14:29.417526: I tensorflow/compiler/jit/xla_gpu_device.cc:99] Not creating XLA devices, tf_xla_enable_xla_devices not set\n",
      "2022-12-14 03:14:29.419839: I tensorflow/stream_executor/platform/default/dso_loader.cc:49] Successfully opened dynamic library libcuda.so.1\n",
      "2022-12-14 03:14:29.439058: I tensorflow/core/common_runtime/gpu/gpu_device.cc:1720] Found device 0 with properties: \n",
      "pciBusID: 0000:02:00.0 name: NVIDIA GeForce GTX 1080 Ti computeCapability: 6.1\n",
      "coreClock: 1.582GHz coreCount: 28 deviceMemorySize: 10.92GiB deviceMemoryBandwidth: 451.17GiB/s\n",
      "2022-12-14 03:14:29.439794: I tensorflow/stream_executor/platform/default/dso_loader.cc:49] Successfully opened dynamic library libcudart.so.10.1\n",
      "2022-12-14 03:14:29.925547: I tensorflow/stream_executor/platform/default/dso_loader.cc:49] Successfully opened dynamic library libcublas.so.10\n",
      "2022-12-14 03:14:29.925691: I tensorflow/stream_executor/platform/default/dso_loader.cc:49] Successfully opened dynamic library libcublasLt.so.10\n",
      "2022-12-14 03:14:30.105886: I tensorflow/stream_executor/platform/default/dso_loader.cc:49] Successfully opened dynamic library libcufft.so.10\n",
      "2022-12-14 03:14:30.612773: I tensorflow/stream_executor/platform/default/dso_loader.cc:49] Successfully opened dynamic library libcurand.so.10\n",
      "2022-12-14 03:14:30.842024: I tensorflow/stream_executor/platform/default/dso_loader.cc:49] Successfully opened dynamic library libcusolver.so.10\n",
      "2022-12-14 03:14:31.039825: I tensorflow/stream_executor/platform/default/dso_loader.cc:49] Successfully opened dynamic library libcusparse.so.10\n",
      "2022-12-14 03:14:31.657096: I tensorflow/stream_executor/platform/default/dso_loader.cc:49] Successfully opened dynamic library libcudnn.so.7\n",
      "2022-12-14 03:14:31.659532: I tensorflow/core/common_runtime/gpu/gpu_device.cc:1862] Adding visible gpu devices: 0\n",
      "2022-12-14 03:14:31.659631: I tensorflow/stream_executor/platform/default/dso_loader.cc:49] Successfully opened dynamic library libcudart.so.10.1\n"
     ]
    },
    {
     "name": "stdout",
     "output_type": "stream",
     "text": [
      "WARNING:tensorflow:From /home/langenhagen/Masterthesis/Masterarbeit/recommenders/recommenders/models/newsrec/models/base_model.py:69: The name tf.keras.backend.set_session is deprecated. Please use tf.compat.v1.keras.backend.set_session instead.\n",
      "\n"
     ]
    },
    {
     "name": "stderr",
     "output_type": "stream",
     "text": [
      "2022-12-14 03:14:36.049606: I tensorflow/core/common_runtime/gpu/gpu_device.cc:1261] Device interconnect StreamExecutor with strength 1 edge matrix:\n",
      "2022-12-14 03:14:36.049996: I tensorflow/core/common_runtime/gpu/gpu_device.cc:1267]      0 \n",
      "2022-12-14 03:14:36.050010: I tensorflow/core/common_runtime/gpu/gpu_device.cc:1280] 0:   N \n",
      "2022-12-14 03:14:36.054050: I tensorflow/core/common_runtime/gpu/gpu_device.cc:1406] Created TensorFlow device (/job:localhost/replica:0/task:0/device:GPU:0 with 9086 MB memory) -> physical GPU (device: 0, name: NVIDIA GeForce GTX 1080 Ti, pci bus id: 0000:02:00.0, compute capability: 6.1)\n",
      "2022-12-14 03:14:36.160158: I tensorflow/compiler/mlir/mlir_graph_optimization_pass.cc:196] None of the MLIR optimization passes are enabled (registered 0 passes)\n",
      "2022-12-14 03:14:36.161642: I tensorflow/core/platform/profile_utils/cpu_utils.cc:112] CPU Frequency: 2099965000 Hz\n"
     ]
    },
    {
     "name": "stdout",
     "output_type": "stream",
     "text": [
      "WARNING:tensorflow:AutoGraph could not transform <bound method SelfAttention.call of <recommenders.models.newsrec.models.layers.SelfAttention object at 0x7f990818f7f0>> and will run it as-is.\n",
      "Please report this to the TensorFlow team. When filing the bug, set the verbosity to 10 (on Linux, `export AUTOGRAPH_VERBOSITY=10`) and attach the full output.\n",
      "Cause: module 'gast' has no attribute 'Index'\n",
      "To silence this warning, decorate the function with @tf.autograph.experimental.do_not_convert\n",
      "WARNING: AutoGraph could not transform <bound method SelfAttention.call of <recommenders.models.newsrec.models.layers.SelfAttention object at 0x7f990818f7f0>> and will run it as-is.\n",
      "Please report this to the TensorFlow team. When filing the bug, set the verbosity to 10 (on Linux, `export AUTOGRAPH_VERBOSITY=10`) and attach the full output.\n",
      "Cause: module 'gast' has no attribute 'Index'\n",
      "To silence this warning, decorate the function with @tf.autograph.experimental.do_not_convert\n"
     ]
    },
    {
     "name": "stderr",
     "output_type": "stream",
     "text": [
      "2022-12-14 03:14:36.366476: I tensorflow/compiler/jit/xla_cpu_device.cc:41] Not creating XLA devices, tf_xla_enable_xla_devices not set\n",
      "2022-12-14 03:14:36.367809: I tensorflow/core/common_runtime/gpu/gpu_device.cc:1720] Found device 0 with properties: \n",
      "pciBusID: 0000:02:00.0 name: NVIDIA GeForce GTX 1080 Ti computeCapability: 6.1\n",
      "coreClock: 1.582GHz coreCount: 28 deviceMemorySize: 10.92GiB deviceMemoryBandwidth: 451.17GiB/s\n",
      "2022-12-14 03:14:36.367869: I tensorflow/stream_executor/platform/default/dso_loader.cc:49] Successfully opened dynamic library libcudart.so.10.1\n",
      "2022-12-14 03:14:36.367915: I tensorflow/stream_executor/platform/default/dso_loader.cc:49] Successfully opened dynamic library libcublas.so.10\n",
      "2022-12-14 03:14:36.367954: I tensorflow/stream_executor/platform/default/dso_loader.cc:49] Successfully opened dynamic library libcublasLt.so.10\n",
      "2022-12-14 03:14:36.367981: I tensorflow/stream_executor/platform/default/dso_loader.cc:49] Successfully opened dynamic library libcufft.so.10\n",
      "2022-12-14 03:14:36.368007: I tensorflow/stream_executor/platform/default/dso_loader.cc:49] Successfully opened dynamic library libcurand.so.10\n",
      "2022-12-14 03:14:36.368033: I tensorflow/stream_executor/platform/default/dso_loader.cc:49] Successfully opened dynamic library libcusolver.so.10\n",
      "2022-12-14 03:14:36.368064: I tensorflow/stream_executor/platform/default/dso_loader.cc:49] Successfully opened dynamic library libcusparse.so.10\n",
      "2022-12-14 03:14:36.368095: I tensorflow/stream_executor/platform/default/dso_loader.cc:49] Successfully opened dynamic library libcudnn.so.7\n",
      "2022-12-14 03:14:36.370135: I tensorflow/core/common_runtime/gpu/gpu_device.cc:1862] Adding visible gpu devices: 0\n"
     ]
    },
    {
     "name": "stdout",
     "output_type": "stream",
     "text": [
      "Input shape: (None, None, 400)\n",
      "Attention weights: Tensor(\"att_layer2/ExpandDims:0\", shape=(None, None, 1), dtype=float32)\n",
      "Input shape: (None, None, 400)\n",
      "Attention weights: Tensor(\"time_distributed/news_encoder/att_layer2/ExpandDims:0\", shape=(None, None, 1), dtype=float32)\n",
      "Input shape: (None, None, 400)\n",
      "Attention weights: Tensor(\"time_distributed/att_layer2/ExpandDims:0\", shape=(None, None, 1), dtype=float32)\n",
      "Input shape: (None, None, 400)\n",
      "Attention weights: Tensor(\"att_layer2_1/ExpandDims:0\", shape=(None, None, 1), dtype=float32)\n",
      "Input shape: (None, None, 400)\n",
      "Attention weights: Tensor(\"user_encoder/time_distributed/news_encoder/att_layer2/ExpandDims:0\", shape=(None, None, 1), dtype=float32)\n",
      "Input shape: (None, None, 400)\n",
      "Attention weights: Tensor(\"user_encoder/time_distributed/att_layer2/ExpandDims:0\", shape=(None, None, 1), dtype=float32)\n",
      "Input shape: (None, None, 400)\n",
      "Attention weights: Tensor(\"user_encoder/att_layer2_1/ExpandDims:0\", shape=(None, None, 1), dtype=float32)\n",
      "Input shape: (None, None, 400)\n",
      "Attention weights: Tensor(\"time_distributed_1/news_encoder/att_layer2/ExpandDims:0\", shape=(None, None, 1), dtype=float32)\n",
      "Input shape: (None, None, 400)\n",
      "Attention weights: Tensor(\"time_distributed_1/att_layer2/ExpandDims:0\", shape=(None, None, 1), dtype=float32)\n",
      "Input shape: (None, None, 400)\n",
      "Attention weights: Tensor(\"news_encoder/att_layer2/ExpandDims:0\", shape=(None, None, 1), dtype=float32)\n"
     ]
    },
    {
     "name": "stderr",
     "output_type": "stream",
     "text": [
      "0it [00:00, ?it/s]2022-12-14 03:15:05.158998: I tensorflow/stream_executor/platform/default/dso_loader.cc:49] Successfully opened dynamic library libcublas.so.10\n",
      "7868it [53:35,  2.45it/s]\n",
      "0it [00:00, ?it/s]/home/langenhagen/miniconda3/envs/tf_newsrec/lib/python3.9/site-packages/tensorflow/python/keras/engine/training.py:2325: UserWarning: `Model.state_updates` will be removed in a future version. This property should not be used in TensorFlow 2.0, as `updates` are applied automatically.\n",
      "  warnings.warn('`Model.state_updates` will be removed in a future version. '\n",
      "1326it [00:09, 135.93it/s]\n",
      "2286it [03:30, 10.86it/s]\n",
      "73152it [01:15, 963.33it/s] \n",
      "1326it [00:07, 171.06it/s]\n",
      "2286it [03:21, 11.32it/s]\n",
      "73152it [00:31, 2335.42it/s]\n"
     ]
    },
    {
     "name": "stdout",
     "output_type": "stream",
     "text": [
      "at epoch 1\n",
      "train info: logloss loss:1.3755367014786284\n",
      "eval info: group_auc:0.646, mean_mrr:0.307, ndcg@10:0.4, ndcg@5:0.3367\n",
      "test info: group_auc:0.646, mean_mrr:0.307, ndcg@10:0.4, ndcg@5:0.3367\n",
      "at epoch 1 , train time: 3215.7 eval time: 751.4\n"
     ]
    },
    {
     "name": "stderr",
     "output_type": "stream",
     "text": [
      "7868it [52:56,  2.48it/s]\n",
      "1326it [00:07, 188.71it/s]\n",
      "2286it [03:19, 11.45it/s]\n",
      "73152it [00:31, 2315.48it/s]\n",
      "1326it [00:07, 185.99it/s]\n",
      "2286it [03:20, 11.42it/s]\n",
      "73152it [00:22, 3205.36it/s]\n"
     ]
    },
    {
     "name": "stdout",
     "output_type": "stream",
     "text": [
      "at epoch 2\n",
      "train info: logloss loss:1.278173703520384\n",
      "eval info: group_auc:0.6556, mean_mrr:0.3129, ndcg@10:0.4073, ndcg@5:0.3438\n",
      "test info: group_auc:0.6556, mean_mrr:0.3129, ndcg@10:0.4073, ndcg@5:0.3438\n",
      "at epoch 2 , train time: 3176.4 eval time: 694.9\n"
     ]
    }
   ],
   "source": [
    "from recommenders_tests import load_small\n",
    "from loading_utils import from_idx_to_UID,from_idx_to_words\n",
    "\n",
    "train_news_file,train_behaviors_file,valid_news_file,valid_behaviors_file,wordEmb_file,userDict_file,wordDict_file,vertDict_file,subvertDict_file = load_small()\n",
    "yaml_file = os.path.join(\"/home/langenhagen/Masterthesis/Masterarbeit/Dataset_small\", \"utils\", r'nrms.yaml')\n",
    "\n",
    "test_behaviors_file=\"/home/langenhagen/Masterthesis/Masterarbeit/Dataset_small/test/behaviors.tsv\"\n",
    "\n",
    "hparams= prepare_hparams(yaml_file, \n",
    "                        wordEmb_file=wordEmb_file,\n",
    "                        wordDict_file=wordDict_file, \n",
    "                        userDict_file=userDict_file,\n",
    "                        vertDict_file=vertDict_file, \n",
    "                        subvertDict_file=subvertDict_file,\n",
    "                        batch_size=32,\n",
    "                        his_size = 100,\n",
    "                        epochs=2)\n",
    "\n",
    "iterator = MINDIterator\n",
    "nrms = NRMSModel(hparams,iterator,42)\n",
    "\n",
    "\n",
    "train_news_file = \"/home/langenhagen/Masterthesis/Masterarbeit/Dataset_small/test/news.tsv\"\n",
    "train_behaviors_file = \"/home/langenhagen/Masterthesis/Masterarbeit/Dataset_small/Users_with_n_behaviors/behaviors.tsv\"\n",
    "\n",
    "nrms, results = nrms.fit(train_news_file, train_behaviors_file, valid_news_file, valid_behaviors_file, valid_news_file,track_wand=False,results_as_list = True)\n",
    "\n",
    "# nrms.model.load_weights(f\"/home/langenhagen/Masterthesis/Masterarbeit/Save_models/NRMS_weights_hist_25/\")"
   ]
  },
  {
   "cell_type": "code",
   "execution_count": 3,
   "metadata": {},
   "outputs": [
    {
     "ename": "AttributeError",
     "evalue": "'NRMSModel' object has no attribute 'save_weights'",
     "output_type": "error",
     "traceback": [
      "\u001b[0;31m---------------------------------------------------------------------------\u001b[0m",
      "\u001b[0;31mAttributeError\u001b[0m                            Traceback (most recent call last)",
      "\u001b[1;32m/home/langenhagen/Masterthesis/Masterarbeit/attention_tests.ipynb Zelle 5\u001b[0m in \u001b[0;36m<cell line: 1>\u001b[0;34m()\u001b[0m\n\u001b[0;32m----> <a href='vscode-notebook-cell://ssh-remote%2Bl3s_p0/home/langenhagen/Masterthesis/Masterarbeit/attention_tests.ipynb#W6sdnNjb2RlLXJlbW90ZQ%3D%3D?line=0'>1</a>\u001b[0m nrms\u001b[39m.\u001b[39;49msave_weights(\u001b[39m'\u001b[39m\u001b[39m/home/langenhagen/Masterthesis/Masterarbeit/Save_models/content_model_weights\u001b[39m\u001b[39m'\u001b[39m, save_format\u001b[39m=\u001b[39m\u001b[39m'\u001b[39m\u001b[39mtf\u001b[39m\u001b[39m'\u001b[39m)\n",
      "\u001b[0;31mAttributeError\u001b[0m: 'NRMSModel' object has no attribute 'save_weights'"
     ]
    }
   ],
   "source": [
    "nrms.save_weights('/home/langenhagen/Masterthesis/Masterarbeit/Save_models/content_model_weights', save_format='tf')"
   ]
  },
  {
   "cell_type": "code",
   "execution_count": 4,
   "metadata": {},
   "outputs": [
    {
     "name": "stderr",
     "output_type": "stream",
     "text": [
      "0it [00:00, ?it/s]2022-12-14 08:00:11.500731: I tensorflow/compiler/jit/xla_gpu_device.cc:99] Not creating XLA devices, tf_xla_enable_xla_devices not set\n",
      "2022-12-14 08:00:11.501996: I tensorflow/core/common_runtime/gpu/gpu_device.cc:1720] Found device 0 with properties: \n",
      "pciBusID: 0000:02:00.0 name: NVIDIA GeForce GTX 1080 Ti computeCapability: 6.1\n",
      "coreClock: 1.582GHz coreCount: 28 deviceMemorySize: 10.92GiB deviceMemoryBandwidth: 451.17GiB/s\n",
      "2022-12-14 08:00:11.502166: I tensorflow/stream_executor/platform/default/dso_loader.cc:49] Successfully opened dynamic library libcudart.so.10.1\n",
      "2022-12-14 08:00:11.502300: I tensorflow/stream_executor/platform/default/dso_loader.cc:49] Successfully opened dynamic library libcublas.so.10\n",
      "2022-12-14 08:00:11.502329: I tensorflow/stream_executor/platform/default/dso_loader.cc:49] Successfully opened dynamic library libcublasLt.so.10\n",
      "2022-12-14 08:00:11.502513: I tensorflow/stream_executor/platform/default/dso_loader.cc:49] Successfully opened dynamic library libcufft.so.10\n",
      "2022-12-14 08:00:11.502619: I tensorflow/stream_executor/platform/default/dso_loader.cc:49] Successfully opened dynamic library libcurand.so.10\n",
      "2022-12-14 08:00:11.502724: I tensorflow/stream_executor/platform/default/dso_loader.cc:49] Successfully opened dynamic library libcusolver.so.10\n",
      "2022-12-14 08:00:11.502829: I tensorflow/stream_executor/platform/default/dso_loader.cc:49] Successfully opened dynamic library libcusparse.so.10\n",
      "2022-12-14 08:00:11.502933: I tensorflow/stream_executor/platform/default/dso_loader.cc:49] Successfully opened dynamic library libcudnn.so.7\n",
      "2022-12-14 08:00:11.504522: I tensorflow/core/common_runtime/gpu/gpu_device.cc:1862] Adding visible gpu devices: 0\n",
      "2022-12-14 08:00:11.504689: I tensorflow/core/common_runtime/gpu/gpu_device.cc:1261] Device interconnect StreamExecutor with strength 1 edge matrix:\n",
      "2022-12-14 08:00:11.504702: I tensorflow/core/common_runtime/gpu/gpu_device.cc:1267]      0 \n",
      "2022-12-14 08:00:11.504708: I tensorflow/core/common_runtime/gpu/gpu_device.cc:1280] 0:   N \n",
      "2022-12-14 08:00:11.506368: I tensorflow/core/common_runtime/gpu/gpu_device.cc:1406] Created TensorFlow device (/job:localhost/replica:0/task:0/device:GPU:0 with 9086 MB memory) -> physical GPU (device: 0, name: NVIDIA GeForce GTX 1080 Ti, pci bus id: 0000:02:00.0, compute capability: 6.1)\n"
     ]
    },
    {
     "name": "stdout",
     "output_type": "stream",
     "text": [
      "Input shape: (3200, 30, 400)\n",
      "Attention weights: Tensor(\"time_distributed_2/news_encoder/att_layer2/ExpandDims:0\", shape=(3200, 30, 1), dtype=float32)\n",
      "Input shape: (3200, 30, 400)\n",
      "Attention weights: Tensor(\"time_distributed_2/att_layer2/ExpandDims:0\", shape=(3200, 30, 1), dtype=float32)\n"
     ]
    },
    {
     "name": "stderr",
     "output_type": "stream",
     "text": [
      "0it [00:01, ?it/s]"
     ]
    },
    {
     "name": "stdout",
     "output_type": "stream",
     "text": [
      "(32, 100, 1)\n",
      "[0.65395254 0.6535249  0.6532822  0.6074023  0.59155715 0.5609017\n",
      " 0.54600954 0.5452977  0.5444304  0.502486   0.47352266 0.46001142\n",
      " 0.43274838 0.41938716 0.41894004 0.4068747  0.406801   0.39452037\n",
      " 0.39340925 0.36960188 0.3686639  0.36859894 0.36819673 0.36775112\n",
      " 0.35688594 0.35658365 0.33391526 0.32245907 0.31144416 0.31141406\n",
      " 0.31138897 0.31120366 0.31096482 0.30053154 0.3004723  0.3002698\n",
      " 0.30012134 0.2902114  0.29001504 0.28006765 0.2800529  0.27071264\n",
      " 0.27065024 0.27060682 0.2704887  0.27046636 0.27043697 0.27041683\n",
      " 0.27041304 0.27032012 0.27031517 0.27029234 0.27025616 0.27019778\n",
      " 0.27015626 0.2618309  0.26172754 0.26170605 0.26166394 0.25345045\n",
      " 0.25345045 0.25345045 0.25345045 0.25345045 0.25345045 0.25345045\n",
      " 0.25345045 0.25345045 0.25345045 0.25345045 0.25345045 0.25345045\n",
      " 0.25345045 0.25345045 0.25345045 0.25345045 0.25345045 0.25345045\n",
      " 0.25345045 0.25345045 0.25345045 0.25345045 0.25345045 0.25345045\n",
      " 0.25345045 0.25345045 0.25345045 0.25345045 0.25345045 0.25345045\n",
      " 0.25345045 0.25345045 0.25345045 0.25345045 0.25345045 0.25345045\n",
      " 0.25345045 0.25345045 0.25345045 0.25345045]\n",
      "[98 99 97 96 95 94 93 92 91 90 89 88 87 86 85 83 84 81 82 79 80 78 77 76\n",
      " 74 75 73 72 68 71 69 70 67 66 64 63 65 62 61 59 60 47 46 58 49 53 50 57\n",
      " 56 45 52 54 51 55 48 42 44 43 41 18 17 16 15 14 10 13 12 11  4  9  8  7\n",
      "  6  5 20  3  2  1 19 27 21 22 40 39 38 37 36 35 34 33 32 31 30 29 28 26\n",
      " 25 24 23  0]\n"
     ]
    },
    {
     "name": "stderr",
     "output_type": "stream",
     "text": [
      "\n"
     ]
    }
   ],
   "source": [
    "from tqdm import tqdm\n",
    "import tensorflow as tf\n",
    "import seaborn as sns\n",
    "K = tf.keras.backend\n",
    "\n",
    "# from model_utils import get_attention_nrms ,visualize_attention\n",
    "\n",
    "class CharVal(object):\n",
    "    def __init__(self, char, val):\n",
    "        self.char = char\n",
    "        self.val = val\n",
    "\n",
    "    def __str__(self):\n",
    "        return str(self.char) # TODO funktioniert noch nicht so wie sie soll sie print(char_df)\n",
    "\n",
    "def rgb_to_hex(rgb):\n",
    "    return '#%02x%02x%02x' % rgb\n",
    "\n",
    "def color_charvals(s):\n",
    "    r = 255-int(s.val*255)\n",
    "    print(r)\n",
    "    color = rgb_to_hex((255, r, r))\n",
    "    return 'background-color: %s' % color\n",
    "\n",
    "\n",
    "def get_attention_nrms(model : NRMSModel,user_input):\n",
    "\n",
    "    # Input runs to the two first layers\n",
    "    inputs = model.userencoder.layers[0](user_input)\n",
    "    inputs = model.userencoder.layers[1](inputs)\n",
    "\n",
    "    # Weights for attention mechanism\n",
    "    w_ = model.userencoder.layers[1].weights[4]\n",
    "    b_ = model.userencoder.layers[1].weights[5]\n",
    "    q_ = model.userencoder.layers[1].weights[6]\n",
    "\n",
    "    # tanh(w.x + b) . q\n",
    "    attention = K.tanh(K.dot(inputs, w_) + b_)\n",
    "    attention = K.dot(attention, q_)\n",
    "\n",
    "    attention = K.squeeze(attention, axis=2)\n",
    "\n",
    "    # Mask out every padding news titel e.g. User has history size 12 and max history size is 100 than the first 88 values are masked out\n",
    "    assert len(user_input.shape) == 3 , print(\"User input has to be of shape (batchsize, max_hist_size, max_title_size)\")\n",
    "    mask = np.count_nonzero(user_input != 0,axis=2)\n",
    "    mask = mask != 0\n",
    "    if mask is None:\n",
    "            attention = K.exp(attention)\n",
    "    else:\n",
    "            attention = K.exp(attention) * K.cast(mask, dtype=\"float32\")\n",
    "    \n",
    "    # Attention weights are basically probabilies \n",
    "    attention = K.exp(attention)\n",
    "\n",
    "    attention_weight = attention / (\n",
    "        K.sum(attention, axis=-1, keepdims=True) + K.epsilon()\n",
    "    )\n",
    "    \n",
    "    attention_weight = K.expand_dims(attention_weight)\n",
    "\n",
    "    return attention,attention_weight\n",
    "\n",
    "def visualize_attention(scores_mat : np.array):\n",
    "    fig = plt.figure(figsize=(20, 20))\n",
    "\n",
    "    # print(scores_mat.shape)\n",
    "    # scores_mat = np.expand_dims(scores_mat,axis=1)\n",
    "    # scores_mat = np.expand_dims(scores_mat,axis=1)\n",
    "    # print(scores_mat.shape)\n",
    "    for idx, scores in enumerate(scores_mat):\n",
    "        scores_np = np.array(scores)\n",
    "        ax = fig.add_subplot(4, 3, idx+1)\n",
    "        # append the attention weights\n",
    "        im = ax.imshow(scores, cmap='viridis')\n",
    "\n",
    "        fontdict = {'fontsize': 10}\n",
    "\n",
    "        ax.set_xticks(range(len(scores_mat)))\n",
    "        ax.set_yticks(range(len(scores_mat)))\n",
    "\n",
    "        ax.set_xticklabels(scores_mat, fontdict=fontdict, rotation=90)\n",
    "        ax.set_yticklabels(scores_mat, fontdict=fontdict)\n",
    "        ax.set_xlabel('{} {}'.format(scores_mat, idx+1))\n",
    "\n",
    "        fig.colorbar(im, fraction=0.046, pad=0.04)\n",
    "    plt.tight_layout()\n",
    "    plt.show()\n",
    "\n",
    "\n",
    "for batch_data_input in tqdm(\n",
    "            nrms.test_iterator.load_user_from_file(valid_news_file, valid_behaviors_file)\n",
    "        ):\n",
    "        with tf.compat.v1.Session() as sess:\n",
    "\n",
    "            # This makes it possible to see tensor vectors\n",
    "            init = tf.compat.v1.global_variables_initializer()\n",
    "            sess.run(init)\n",
    "            user_input = nrms._get_user_feature_from_iter(batch_data_input)\n",
    "            \n",
    "            # 1 x his_size x 30 \n",
    "            # batchsize x history x titlelenght\n",
    "            # Dim 1 : Batch\n",
    "            # Dim 2 : News aus der History\n",
    "            # Dim 3 : Word IDs welche Titel repräsentieren\n",
    "\n",
    "            #from_idx_to_words(nrms,user_input[0][99])\n",
    "\n",
    "            # Show the history size of each element in batch\n",
    "            # for b in range(user_input.shape[0]):\n",
    "            #     print(f\"Actual history length for batch {b}: {np.count_nonzero(np.count_nonzero(user_input[b] != 0,axis=1))}\")\n",
    "                \n",
    "            \n",
    "            attention, att_weight = get_attention_nrms(nrms,user_input)\n",
    "            \n",
    "            att_weight = sess.run(att_weight)\n",
    "\n",
    "            print(att_weight.shape)\n",
    "            # visualize_attention(att_weight)\n",
    "\n",
    "            # if you are using batches the outputs will be in batches\n",
    "            # get exact attentions of chars\n",
    "            an_attention_output = att_weight\n",
    "\n",
    "            sorted_news = np.argsort(np.sum(att_weight[:,:,0],axis=0))[::-1]\n",
    "            sorted_atts = np.sort(np.sum(att_weight[:,:,0],axis=0))[::-1]\n",
    "\n",
    "            print(sorted_atts)\n",
    "            print(sorted_news)\n",
    "            dict_ = dict(zip(sorted_news,sorted_atts))\n",
    "\n",
    "            # Print the sorted attention weights\n",
    "            # sns.histplot(dict_,bins=len(set(sorted_atts)))\n",
    "\n",
    "            # sns.barplot(dict_)\n",
    "            # for i in range(att_weight.shape[0]):\n",
    "            #     print(f\"Max : {round(np.max(att_weight[i]), 4)} vs Min : {round(np.min(att_weight[i]), 4)}\")\n",
    "        break\n",
    "        \n"
   ]
  },
  {
   "cell_type": "code",
   "execution_count": 5,
   "metadata": {},
   "outputs": [
    {
     "name": "stderr",
     "output_type": "stream",
     "text": [
      "/home/langenhagen/miniconda3/envs/tf_newsrec/lib/python3.9/site-packages/seaborn/_decorators.py:36: FutureWarning: Pass the following variables as keyword args: x, y. From version 0.12, the only valid positional argument will be `data`, and passing other arguments without an explicit keyword will result in an error or misinterpretation.\n",
      "  warnings.warn(\n"
     ]
    },
    {
     "data": {
      "image/png": "[encoded data removed]",
      "text/plain": [
       "<Figure size 432x288 with 1 Axes>"
      ]
     },
     "metadata": {
      "needs_background": "light"
     },
     "output_type": "display_data"
    }
   ],
   "source": [
    "import matplotlib.pyplot as plt\n",
    "ax = sns.barplot(sorted_atts[::-1],sorted_news[::-1],orient='h')\n",
    "\n",
    "\n",
    "plt.tight_layout()\n",
    "plt.show()"
   ]
  }
 ],
 "metadata": {
  "kernelspec": {
   "display_name": "tf_newsrec",
   "language": "python",
   "name": "python3"
  },
  "language_info": {
   "codemirror_mode": {
    "name": "ipython",
    "version": 3
   },
   "file_extension": ".py",
   "mimetype": "text/x-python",
   "name": "python",
   "nbconvert_exporter": "python",
   "pygments_lexer": "ipython3",
   "version": "3.9.12"
  },
  "orig_nbformat": 4,
  "vscode": {
   "interpreter": {
    "hash": "97c3bffaa63a9f6cb924536275c92dc7b6d7e5cc45958abc88e57d7adb9f4965"
   }
  }
 },
 "nbformat": 4,
 "nbformat_minor": 2
}
